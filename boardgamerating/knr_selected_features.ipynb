{
 "cells": [
  {
   "cell_type": "code",
   "execution_count": 1,
   "id": "db73a153",
   "metadata": {},
   "outputs": [],
   "source": [
    "# Dependencies\n",
    "import numpy as np\n",
    "import pandas as pd\n",
    "import matplotlib.pyplot as plt"
   ]
  },
  {
   "cell_type": "code",
   "execution_count": 2,
   "id": "62cfc2cd",
   "metadata": {},
   "outputs": [
    {
     "data": {
      "text/html": [
       "<div>\n",
       "<style scoped>\n",
       "    .dataframe tbody tr th:only-of-type {\n",
       "        vertical-align: middle;\n",
       "    }\n",
       "\n",
       "    .dataframe tbody tr th {\n",
       "        vertical-align: top;\n",
       "    }\n",
       "\n",
       "    .dataframe thead th {\n",
       "        text-align: right;\n",
       "    }\n",
       "</style>\n",
       "<table border=\"1\" class=\"dataframe\">\n",
       "  <thead>\n",
       "    <tr style=\"text-align: right;\">\n",
       "      <th></th>\n",
       "      <th>average</th>\n",
       "      <th>yearpublished</th>\n",
       "      <th>maxplayers</th>\n",
       "      <th>maxplaytime</th>\n",
       "      <th>minage</th>\n",
       "      <th>usersrated</th>\n",
       "      <th>stddev</th>\n",
       "      <th>avgweight</th>\n",
       "      <th>numweights</th>\n",
       "      <th>numgeeklists</th>\n",
       "      <th>numtrading</th>\n",
       "      <th>numwanting</th>\n",
       "      <th>numcomments</th>\n",
       "      <th>siteviews</th>\n",
       "      <th>numplays</th>\n",
       "      <th>weblink</th>\n",
       "    </tr>\n",
       "  </thead>\n",
       "  <tbody>\n",
       "    <tr>\n",
       "      <th>0</th>\n",
       "      <td>8.77503</td>\n",
       "      <td>2017</td>\n",
       "      <td>4</td>\n",
       "      <td>120</td>\n",
       "      <td>14</td>\n",
       "      <td>44354</td>\n",
       "      <td>1.62720</td>\n",
       "      <td>3.8660</td>\n",
       "      <td>1910</td>\n",
       "      <td>4649</td>\n",
       "      <td>535</td>\n",
       "      <td>1374</td>\n",
       "      <td>8021</td>\n",
       "      <td>10583753</td>\n",
       "      <td>368134</td>\n",
       "      <td>40</td>\n",
       "    </tr>\n",
       "    <tr>\n",
       "      <th>1</th>\n",
       "      <td>8.60721</td>\n",
       "      <td>2015</td>\n",
       "      <td>4</td>\n",
       "      <td>60</td>\n",
       "      <td>13</td>\n",
       "      <td>43007</td>\n",
       "      <td>1.56641</td>\n",
       "      <td>2.8413</td>\n",
       "      <td>1172</td>\n",
       "      <td>3978</td>\n",
       "      <td>310</td>\n",
       "      <td>850</td>\n",
       "      <td>6552</td>\n",
       "      <td>3385064</td>\n",
       "      <td>238259</td>\n",
       "      <td>70</td>\n",
       "    </tr>\n",
       "    <tr>\n",
       "      <th>2</th>\n",
       "      <td>8.66981</td>\n",
       "      <td>2018</td>\n",
       "      <td>4</td>\n",
       "      <td>120</td>\n",
       "      <td>14</td>\n",
       "      <td>21618</td>\n",
       "      <td>1.24895</td>\n",
       "      <td>3.9065</td>\n",
       "      <td>1037</td>\n",
       "      <td>1630</td>\n",
       "      <td>102</td>\n",
       "      <td>1477</td>\n",
       "      <td>3303</td>\n",
       "      <td>1816252</td>\n",
       "      <td>54092</td>\n",
       "      <td>23</td>\n",
       "    </tr>\n",
       "    <tr>\n",
       "      <th>3</th>\n",
       "      <td>8.42870</td>\n",
       "      <td>2016</td>\n",
       "      <td>5</td>\n",
       "      <td>120</td>\n",
       "      <td>12</td>\n",
       "      <td>68412</td>\n",
       "      <td>1.38204</td>\n",
       "      <td>3.2395</td>\n",
       "      <td>2798</td>\n",
       "      <td>7276</td>\n",
       "      <td>453</td>\n",
       "      <td>2085</td>\n",
       "      <td>10034</td>\n",
       "      <td>6059031</td>\n",
       "      <td>393651</td>\n",
       "      <td>71</td>\n",
       "    </tr>\n",
       "    <tr>\n",
       "      <th>4</th>\n",
       "      <td>8.68957</td>\n",
       "      <td>2017</td>\n",
       "      <td>6</td>\n",
       "      <td>480</td>\n",
       "      <td>14</td>\n",
       "      <td>14385</td>\n",
       "      <td>1.59635</td>\n",
       "      <td>4.2333</td>\n",
       "      <td>673</td>\n",
       "      <td>1010</td>\n",
       "      <td>98</td>\n",
       "      <td>979</td>\n",
       "      <td>2206</td>\n",
       "      <td>2267902</td>\n",
       "      <td>21263</td>\n",
       "      <td>23</td>\n",
       "    </tr>\n",
       "  </tbody>\n",
       "</table>\n",
       "</div>"
      ],
      "text/plain": [
       "   average  yearpublished  maxplayers  maxplaytime  minage  usersrated  \\\n",
       "0  8.77503           2017           4          120      14       44354   \n",
       "1  8.60721           2015           4           60      13       43007   \n",
       "2  8.66981           2018           4          120      14       21618   \n",
       "3  8.42870           2016           5          120      12       68412   \n",
       "4  8.68957           2017           6          480      14       14385   \n",
       "\n",
       "    stddev  avgweight  numweights  numgeeklists  numtrading  numwanting  \\\n",
       "0  1.62720     3.8660        1910          4649         535        1374   \n",
       "1  1.56641     2.8413        1172          3978         310         850   \n",
       "2  1.24895     3.9065        1037          1630         102        1477   \n",
       "3  1.38204     3.2395        2798          7276         453        2085   \n",
       "4  1.59635     4.2333         673          1010          98         979   \n",
       "\n",
       "   numcomments  siteviews  numplays  weblink  \n",
       "0         8021   10583753    368134       40  \n",
       "1         6552    3385064    238259       70  \n",
       "2         3303    1816252     54092       23  \n",
       "3        10034    6059031    393651       71  \n",
       "4         2206    2267902     21263       23  "
      ]
     },
     "execution_count": 2,
     "metadata": {},
     "output_type": "execute_result"
    }
   ],
   "source": [
    "# read in csv file\n",
    "game_info_df=pd.read_csv(\"../data/boardgames_07022021.csv\")\n",
    "# remove duplicate games\n",
    "game_info_df.drop_duplicates(subset=['objectid'], inplace=True)\n",
    "# choose the attributes which higer feature importances\n",
    "game_info_df=game_info_df[['average', 'yearpublished', 'maxplayers','maxplaytime', 'minage', \n",
    "       'usersrated', 'stddev', 'avgweight','numweights', 'numgeeklists', 'numtrading', 'numwanting', 'numcomments',\n",
    "       'siteviews', 'numplays',  'weblink']].copy()\n",
    "# drop the null rows\n",
    "game_info_df.dropna(inplace=True)\n",
    "# remove the rows which have invalid values\n",
    "game_info_df.drop(game_info_df[game_info_df['average'] ==0].index, inplace = True)\n",
    "game_info_df.drop(game_info_df[game_info_df['maxplayers'] ==0].index, inplace = True)\n",
    "game_info_df.drop(game_info_df[game_info_df['maxplaytime'] ==0].index, inplace = True)\n",
    "game_info_df.head()"
   ]
  },
  {
   "cell_type": "code",
   "execution_count": 3,
   "id": "0f5ddf1a",
   "metadata": {},
   "outputs": [
    {
     "data": {
      "text/html": [
       "<div>\n",
       "<style scoped>\n",
       "    .dataframe tbody tr th:only-of-type {\n",
       "        vertical-align: middle;\n",
       "    }\n",
       "\n",
       "    .dataframe tbody tr th {\n",
       "        vertical-align: top;\n",
       "    }\n",
       "\n",
       "    .dataframe thead th {\n",
       "        text-align: right;\n",
       "    }\n",
       "</style>\n",
       "<table border=\"1\" class=\"dataframe\">\n",
       "  <thead>\n",
       "    <tr style=\"text-align: right;\">\n",
       "      <th></th>\n",
       "      <th>count</th>\n",
       "      <th>mean</th>\n",
       "      <th>std</th>\n",
       "      <th>min</th>\n",
       "      <th>25%</th>\n",
       "      <th>50%</th>\n",
       "      <th>75%</th>\n",
       "      <th>max</th>\n",
       "    </tr>\n",
       "  </thead>\n",
       "  <tbody>\n",
       "    <tr>\n",
       "      <th>average</th>\n",
       "      <td>26996.0</td>\n",
       "      <td>6.162709</td>\n",
       "      <td>1.134454</td>\n",
       "      <td>1.0</td>\n",
       "      <td>5.527213</td>\n",
       "      <td>6.264495</td>\n",
       "      <td>6.924685</td>\n",
       "      <td>10.0</td>\n",
       "    </tr>\n",
       "    <tr>\n",
       "      <th>yearpublished</th>\n",
       "      <td>26996.0</td>\n",
       "      <td>1972.106349</td>\n",
       "      <td>246.196859</td>\n",
       "      <td>-3500.0</td>\n",
       "      <td>1992.000000</td>\n",
       "      <td>2005.000000</td>\n",
       "      <td>2015.000000</td>\n",
       "      <td>2022.0</td>\n",
       "    </tr>\n",
       "    <tr>\n",
       "      <th>maxplayers</th>\n",
       "      <td>26996.0</td>\n",
       "      <td>5.950733</td>\n",
       "      <td>69.806799</td>\n",
       "      <td>1.0</td>\n",
       "      <td>4.000000</td>\n",
       "      <td>4.000000</td>\n",
       "      <td>6.000000</td>\n",
       "      <td>11299.0</td>\n",
       "    </tr>\n",
       "    <tr>\n",
       "      <th>maxplaytime</th>\n",
       "      <td>26996.0</td>\n",
       "      <td>87.146651</td>\n",
       "      <td>475.289749</td>\n",
       "      <td>1.0</td>\n",
       "      <td>30.000000</td>\n",
       "      <td>45.000000</td>\n",
       "      <td>90.000000</td>\n",
       "      <td>60000.0</td>\n",
       "    </tr>\n",
       "    <tr>\n",
       "      <th>minage</th>\n",
       "      <td>26996.0</td>\n",
       "      <td>9.141243</td>\n",
       "      <td>3.954428</td>\n",
       "      <td>0.0</td>\n",
       "      <td>8.000000</td>\n",
       "      <td>10.000000</td>\n",
       "      <td>12.000000</td>\n",
       "      <td>25.0</td>\n",
       "    </tr>\n",
       "    <tr>\n",
       "      <th>usersrated</th>\n",
       "      <td>26996.0</td>\n",
       "      <td>668.597644</td>\n",
       "      <td>3173.892091</td>\n",
       "      <td>1.0</td>\n",
       "      <td>30.000000</td>\n",
       "      <td>76.000000</td>\n",
       "      <td>264.000000</td>\n",
       "      <td>104891.0</td>\n",
       "    </tr>\n",
       "    <tr>\n",
       "      <th>stddev</th>\n",
       "      <td>26996.0</td>\n",
       "      <td>1.465848</td>\n",
       "      <td>0.447295</td>\n",
       "      <td>0.0</td>\n",
       "      <td>1.279060</td>\n",
       "      <td>1.463315</td>\n",
       "      <td>1.677450</td>\n",
       "      <td>4.5</td>\n",
       "    </tr>\n",
       "    <tr>\n",
       "      <th>avgweight</th>\n",
       "      <td>26996.0</td>\n",
       "      <td>1.774809</td>\n",
       "      <td>1.001052</td>\n",
       "      <td>0.0</td>\n",
       "      <td>1.000000</td>\n",
       "      <td>1.754750</td>\n",
       "      <td>2.448300</td>\n",
       "      <td>5.0</td>\n",
       "    </tr>\n",
       "    <tr>\n",
       "      <th>numweights</th>\n",
       "      <td>26996.0</td>\n",
       "      <td>39.759705</td>\n",
       "      <td>183.938411</td>\n",
       "      <td>0.0</td>\n",
       "      <td>2.000000</td>\n",
       "      <td>6.000000</td>\n",
       "      <td>19.000000</td>\n",
       "      <td>7567.0</td>\n",
       "    </tr>\n",
       "    <tr>\n",
       "      <th>numgeeklists</th>\n",
       "      <td>26996.0</td>\n",
       "      <td>192.819195</td>\n",
       "      <td>594.318720</td>\n",
       "      <td>0.0</td>\n",
       "      <td>14.000000</td>\n",
       "      <td>39.000000</td>\n",
       "      <td>127.000000</td>\n",
       "      <td>15950.0</td>\n",
       "    </tr>\n",
       "    <tr>\n",
       "      <th>numtrading</th>\n",
       "      <td>26996.0</td>\n",
       "      <td>34.449622</td>\n",
       "      <td>90.882043</td>\n",
       "      <td>0.0</td>\n",
       "      <td>2.000000</td>\n",
       "      <td>8.000000</td>\n",
       "      <td>28.000000</td>\n",
       "      <td>2477.0</td>\n",
       "    </tr>\n",
       "    <tr>\n",
       "      <th>numwanting</th>\n",
       "      <td>26996.0</td>\n",
       "      <td>33.302489</td>\n",
       "      <td>106.561078</td>\n",
       "      <td>0.0</td>\n",
       "      <td>1.000000</td>\n",
       "      <td>5.000000</td>\n",
       "      <td>20.000000</td>\n",
       "      <td>2085.0</td>\n",
       "    </tr>\n",
       "    <tr>\n",
       "      <th>numcomments</th>\n",
       "      <td>26996.0</td>\n",
       "      <td>166.188583</td>\n",
       "      <td>591.026946</td>\n",
       "      <td>0.0</td>\n",
       "      <td>12.000000</td>\n",
       "      <td>33.000000</td>\n",
       "      <td>98.000000</td>\n",
       "      <td>18840.0</td>\n",
       "    </tr>\n",
       "    <tr>\n",
       "      <th>siteviews</th>\n",
       "      <td>26996.0</td>\n",
       "      <td>71653.970403</td>\n",
       "      <td>228801.086761</td>\n",
       "      <td>1301.0</td>\n",
       "      <td>9390.500000</td>\n",
       "      <td>20461.000000</td>\n",
       "      <td>51528.000000</td>\n",
       "      <td>10583753.0</td>\n",
       "    </tr>\n",
       "    <tr>\n",
       "      <th>numplays</th>\n",
       "      <td>26996.0</td>\n",
       "      <td>2182.254964</td>\n",
       "      <td>14636.707222</td>\n",
       "      <td>0.0</td>\n",
       "      <td>19.000000</td>\n",
       "      <td>116.000000</td>\n",
       "      <td>525.000000</td>\n",
       "      <td>699142.0</td>\n",
       "    </tr>\n",
       "    <tr>\n",
       "      <th>weblink</th>\n",
       "      <td>26996.0</td>\n",
       "      <td>5.221440</td>\n",
       "      <td>10.175355</td>\n",
       "      <td>0.0</td>\n",
       "      <td>0.000000</td>\n",
       "      <td>2.000000</td>\n",
       "      <td>6.000000</td>\n",
       "      <td>207.0</td>\n",
       "    </tr>\n",
       "  </tbody>\n",
       "</table>\n",
       "</div>"
      ],
      "text/plain": [
       "                 count          mean            std     min          25%  \\\n",
       "average        26996.0      6.162709       1.134454     1.0     5.527213   \n",
       "yearpublished  26996.0   1972.106349     246.196859 -3500.0  1992.000000   \n",
       "maxplayers     26996.0      5.950733      69.806799     1.0     4.000000   \n",
       "maxplaytime    26996.0     87.146651     475.289749     1.0    30.000000   \n",
       "minage         26996.0      9.141243       3.954428     0.0     8.000000   \n",
       "usersrated     26996.0    668.597644    3173.892091     1.0    30.000000   \n",
       "stddev         26996.0      1.465848       0.447295     0.0     1.279060   \n",
       "avgweight      26996.0      1.774809       1.001052     0.0     1.000000   \n",
       "numweights     26996.0     39.759705     183.938411     0.0     2.000000   \n",
       "numgeeklists   26996.0    192.819195     594.318720     0.0    14.000000   \n",
       "numtrading     26996.0     34.449622      90.882043     0.0     2.000000   \n",
       "numwanting     26996.0     33.302489     106.561078     0.0     1.000000   \n",
       "numcomments    26996.0    166.188583     591.026946     0.0    12.000000   \n",
       "siteviews      26996.0  71653.970403  228801.086761  1301.0  9390.500000   \n",
       "numplays       26996.0   2182.254964   14636.707222     0.0    19.000000   \n",
       "weblink        26996.0      5.221440      10.175355     0.0     0.000000   \n",
       "\n",
       "                        50%           75%         max  \n",
       "average            6.264495      6.924685        10.0  \n",
       "yearpublished   2005.000000   2015.000000      2022.0  \n",
       "maxplayers         4.000000      6.000000     11299.0  \n",
       "maxplaytime       45.000000     90.000000     60000.0  \n",
       "minage            10.000000     12.000000        25.0  \n",
       "usersrated        76.000000    264.000000    104891.0  \n",
       "stddev             1.463315      1.677450         4.5  \n",
       "avgweight          1.754750      2.448300         5.0  \n",
       "numweights         6.000000     19.000000      7567.0  \n",
       "numgeeklists      39.000000    127.000000     15950.0  \n",
       "numtrading         8.000000     28.000000      2477.0  \n",
       "numwanting         5.000000     20.000000      2085.0  \n",
       "numcomments       33.000000     98.000000     18840.0  \n",
       "siteviews      20461.000000  51528.000000  10583753.0  \n",
       "numplays         116.000000    525.000000    699142.0  \n",
       "weblink            2.000000      6.000000       207.0  "
      ]
     },
     "execution_count": 3,
     "metadata": {},
     "output_type": "execute_result"
    }
   ],
   "source": [
    "# Get the general idea about the dataset value range\n",
    "game_info_df.describe().T"
   ]
  },
  {
   "cell_type": "markdown",
   "id": "76bc2cdf",
   "metadata": {},
   "source": [
    "## Select features, Create Train Test Split, Scale the data"
   ]
  },
  {
   "cell_type": "code",
   "execution_count": 4,
   "id": "1fcadc1e",
   "metadata": {},
   "outputs": [
    {
     "data": {
      "text/plain": [
       "((26996, 15), (26996,))"
      ]
     },
     "execution_count": 4,
     "metadata": {},
     "output_type": "execute_result"
    }
   ],
   "source": [
    "# Set features (X) and target (y)\n",
    "y=game_info_df['average']\n",
    "X=game_info_df.drop(['average'],axis=1)\n",
    "X.shape, y.shape"
   ]
  },
  {
   "cell_type": "code",
   "execution_count": 5,
   "id": "feec9d0a",
   "metadata": {},
   "outputs": [
    {
     "data": {
      "text/plain": [
       "Index(['yearpublished', 'maxplayers', 'maxplaytime', 'minage', 'usersrated',\n",
       "       'stddev', 'avgweight', 'numweights', 'numgeeklists', 'numtrading',\n",
       "       'numwanting', 'numcomments', 'siteviews', 'numplays', 'weblink'],\n",
       "      dtype='object')"
      ]
     },
     "execution_count": 5,
     "metadata": {},
     "output_type": "execute_result"
    }
   ],
   "source": [
    "feature_names=X.columns\n",
    "feature_names"
   ]
  },
  {
   "cell_type": "code",
   "execution_count": 6,
   "id": "f567f971",
   "metadata": {},
   "outputs": [
    {
     "data": {
      "text/plain": [
       "((5399, 15), (5399,))"
      ]
     },
     "execution_count": 6,
     "metadata": {},
     "output_type": "execute_result"
    }
   ],
   "source": [
    "# Create a Train Test Split (20/80)\n",
    "from sklearn.model_selection import train_test_split\n",
    "X_train, X_test, y_train, y_test = train_test_split(X, y,  train_size=0.2,random_state=101)\n",
    "X_train.shape, y_train.shape"
   ]
  },
  {
   "cell_type": "code",
   "execution_count": 7,
   "id": "e9e27fec",
   "metadata": {},
   "outputs": [],
   "source": [
    "# Scale the data\n",
    "from sklearn.preprocessing import MinMaxScaler\n",
    "X_scaler = MinMaxScaler().fit(X_train)\n",
    "X_train_scaled = X_scaler.transform(X_train)\n",
    "X_test_scaled = X_scaler.transform(X_test)"
   ]
  },
  {
   "cell_type": "markdown",
   "id": "e085cd22",
   "metadata": {},
   "source": [
    "## Perform feature selection"
   ]
  },
  {
   "cell_type": "code",
   "execution_count": 8,
   "id": "97f93a2f",
   "metadata": {},
   "outputs": [
    {
     "name": "stdout",
     "output_type": "stream",
     "text": [
      "Training Data Score: 0.94429\n",
      "Testing Data Score: 0.57076\n"
     ]
    }
   ],
   "source": [
    "from sklearn.ensemble import RandomForestRegressor\n",
    " # Create a random forest regressor\n",
    "rf = RandomForestRegressor(n_estimators=500)\n",
    "rf = rf.fit(X_train_scaled, y_train)\n",
    "print(f\"Training Data Score: {rf.score(X_train_scaled, y_train):.5f}\")\n",
    "print(f\"Testing Data Score: {rf.score(X_test_scaled, y_test):.5f}\")"
   ]
  },
  {
   "cell_type": "code",
   "execution_count": 9,
   "id": "7a41c6ac",
   "metadata": {},
   "outputs": [
    {
     "data": {
      "text/plain": [
       "[(0.32820133056867545, 'numwanting'),\n",
       " (0.1319294608212614, 'yearpublished'),\n",
       " (0.12149452334357722, 'avgweight'),\n",
       " (0.07317425625421901, 'stddev'),\n",
       " (0.04888696668384064, 'siteviews'),\n",
       " (0.04544568730900388, 'numplays'),\n",
       " (0.04389898577963396, 'numgeeklists'),\n",
       " (0.04198273829493955, 'numtrading'),\n",
       " (0.036474256641551434, 'maxplaytime'),\n",
       " (0.027395432950048412, 'usersrated'),\n",
       " (0.02716748911824168, 'numcomments'),\n",
       " (0.025828183621952498, 'minage'),\n",
       " (0.02208658071209725, 'maxplayers'),\n",
       " (0.013290934445271463, 'weblink'),\n",
       " (0.012743173455686171, 'numweights')]"
      ]
     },
     "execution_count": 9,
     "metadata": {},
     "output_type": "execute_result"
    }
   ],
   "source": [
    "importances = rf.feature_importances_\n",
    "rf_feature_importance=sorted(zip(importances, feature_names), reverse=True)\n",
    "rf_feature_importance"
   ]
  },
  {
   "cell_type": "code",
   "execution_count": 10,
   "id": "882f8ef8",
   "metadata": {},
   "outputs": [
    {
     "data": {
      "image/png": "[encoded data removed]",
      "text/plain": [
       "<Figure size 432x288 with 1 Axes>"
      ]
     },
     "metadata": {},
     "output_type": "display_data"
    }
   ],
   "source": [
    "plt.pie([a[0] for a in rf_feature_importance],labels=[a[1] for a in rf_feature_importance])\n",
    "plt.show()"
   ]
  },
  {
   "cell_type": "code",
   "execution_count": 11,
   "id": "146732a1",
   "metadata": {},
   "outputs": [
    {
     "name": "stdout",
     "output_type": "stream",
     "text": [
      "Training Data Score: 1.00000\n",
      "Testing Data Score: 0.16597\n"
     ]
    }
   ],
   "source": [
    "from sklearn import tree\n",
    "dtr = tree.DecisionTreeRegressor()\n",
    "dtr = dtr.fit(X_train_scaled, y_train)\n",
    "dtr.score(X_train_scaled, y_train)\n",
    "print(f\"Training Data Score: {dtr.score(X_train_scaled, y_train):.5f}\")\n",
    "print(f\"Testing Data Score: {dtr.score(X_test_scaled, y_test):.5f}\")"
   ]
  },
  {
   "cell_type": "code",
   "execution_count": 12,
   "id": "abc46318",
   "metadata": {},
   "outputs": [
    {
     "data": {
      "text/plain": [
       "[(0.3220217900811085, 'numwanting'),\n",
       " (0.13014479215426078, 'yearpublished'),\n",
       " (0.12495194795316844, 'avgweight'),\n",
       " (0.07477083783423395, 'stddev'),\n",
       " (0.05628827135052128, 'siteviews'),\n",
       " (0.04294890115022009, 'numtrading'),\n",
       " (0.03910703796763601, 'numplays'),\n",
       " (0.038848029578895785, 'numgeeklists'),\n",
       " (0.03738672720051707, 'maxplaytime'),\n",
       " (0.031979156596409666, 'minage'),\n",
       " (0.026897171475306014, 'numcomments'),\n",
       " (0.024689764162842694, 'usersrated'),\n",
       " (0.020298804489948266, 'maxplayers'),\n",
       " (0.01797828236928401, 'weblink'),\n",
       " (0.011688485635647216, 'numweights')]"
      ]
     },
     "execution_count": 12,
     "metadata": {},
     "output_type": "execute_result"
    }
   ],
   "source": [
    "importances = dtr.feature_importances_\n",
    "dtr_feature_importance=sorted(zip(importances, feature_names), reverse=True)\n",
    "dtr_feature_importance"
   ]
  },
  {
   "cell_type": "code",
   "execution_count": 13,
   "id": "e75b2739",
   "metadata": {},
   "outputs": [
    {
     "name": "stderr",
     "output_type": "stream",
     "text": [
      "<ipython-input-13-9cbc194fdd8d>:1: MatplotlibDeprecationWarning: normalize=None does not normalize if the sum is less than 1 but this behavior is deprecated since 3.3 until two minor releases later. After the deprecation period the default value will be normalize=True. To prevent normalization pass normalize=False \n",
      "  plt.pie([a[0] for a in dtr_feature_importance],labels=[a[1] for a in dtr_feature_importance])\n"
     ]
    },
    {
     "data": {
      "image/png": "[encoded data removed]",
      "text/plain": [
       "<Figure size 432x288 with 1 Axes>"
      ]
     },
     "metadata": {},
     "output_type": "display_data"
    }
   ],
   "source": [
    "plt.pie([a[0] for a in dtr_feature_importance],labels=[a[1] for a in dtr_feature_importance])\n",
    "plt.show()"
   ]
  },
  {
   "cell_type": "code",
   "execution_count": 14,
   "id": "a7ece514",
   "metadata": {
    "scrolled": true
   },
   "outputs": [
    {
     "name": "stdout",
     "output_type": "stream",
     "text": [
      "k: 1, Train/Test Score: 1.000/-0.149\n",
      "k: 3, Train/Test Score: 0.621/0.216\n",
      "k: 5, Train/Test Score: 0.543/0.287\n",
      "k: 7, Train/Test Score: 0.517/0.312\n",
      "k: 9, Train/Test Score: 0.494/0.330\n",
      "k: 11, Train/Test Score: 0.480/0.341\n",
      "k: 13, Train/Test Score: 0.469/0.346\n",
      "k: 15, Train/Test Score: 0.460/0.350\n",
      "k: 17, Train/Test Score: 0.451/0.353\n",
      "k: 19, Train/Test Score: 0.443/0.356\n",
      "k: 21, Train/Test Score: 0.437/0.357\n",
      "k: 23, Train/Test Score: 0.431/0.357\n",
      "k: 25, Train/Test Score: 0.428/0.357\n",
      "k: 27, Train/Test Score: 0.424/0.357\n",
      "k: 29, Train/Test Score: 0.422/0.357\n"
     ]
    },
    {
     "data": {
      "image/png": "[encoded data removed]",
      "text/plain": [
       "<Figure size 432x288 with 1 Axes>"
      ]
     },
     "metadata": {
      "needs_background": "light"
     },
     "output_type": "display_data"
    }
   ],
   "source": [
    "from sklearn.neighbors import KNeighborsRegressor\n",
    "train_scores = []\n",
    "test_scores = []\n",
    "for k in range(1, 30, 2):\n",
    "    knr = KNeighborsRegressor(n_neighbors=k)\n",
    "    knr.fit(X_train_scaled, y_train)\n",
    "    train_score = knr.score(X_train_scaled, y_train)\n",
    "    test_score = knr.score(X_test_scaled, y_test)\n",
    "    train_scores.append(train_score)\n",
    "    test_scores.append(test_score)\n",
    "    print(f\"k: {k}, Train/Test Score: {train_score:.3f}/{test_score:.3f}\")\n",
    "    \n",
    "plt.plot(range(1, 30, 2), train_scores, marker='o')\n",
    "plt.plot(range(1, 30, 2), test_scores, marker=\"x\")\n",
    "plt.xlabel(\"k neighbors\")\n",
    "plt.ylabel(\"Testing accuracy Score\")\n",
    "plt.show()"
   ]
  },
  {
   "cell_type": "code",
   "execution_count": null,
   "id": "5f3a3cb1",
   "metadata": {},
   "outputs": [],
   "source": []
  }
 ],
 "metadata": {
  "kernelspec": {
   "display_name": "Python 3",
   "language": "python",
   "name": "python3"
  },
  "language_info": {
   "codemirror_mode": {
    "name": "ipython",
    "version": 3
   },
   "file_extension": ".py",
   "mimetype": "text/x-python",
   "name": "python",
   "nbconvert_exporter": "python",
   "pygments_lexer": "ipython3",
   "version": "3.8.10"
  }
 },
 "nbformat": 4,
 "nbformat_minor": 5
}
