{
 "cells": [
  {
   "cell_type": "code",
   "execution_count": 1,
   "id": "db73a153",
   "metadata": {},
   "outputs": [],
   "source": [
    "# Dependencies\n",
    "import numpy as np\n",
    "import pandas as pd\n",
    "import matplotlib.pyplot as plt"
   ]
  },
  {
   "cell_type": "code",
   "execution_count": 2,
   "id": "62cfc2cd",
   "metadata": {},
   "outputs": [
    {
     "data": {
      "text/html": [
       "<div>\n",
       "<style scoped>\n",
       "    .dataframe tbody tr th:only-of-type {\n",
       "        vertical-align: middle;\n",
       "    }\n",
       "\n",
       "    .dataframe tbody tr th {\n",
       "        vertical-align: top;\n",
       "    }\n",
       "\n",
       "    .dataframe thead th {\n",
       "        text-align: right;\n",
       "    }\n",
       "</style>\n",
       "<table border=\"1\" class=\"dataframe\">\n",
       "  <thead>\n",
       "    <tr style=\"text-align: right;\">\n",
       "      <th></th>\n",
       "      <th>average</th>\n",
       "      <th>yearpublished</th>\n",
       "      <th>minplayers</th>\n",
       "      <th>maxplayers</th>\n",
       "      <th>minplaytime</th>\n",
       "      <th>maxplaytime</th>\n",
       "      <th>minage</th>\n",
       "      <th>totalvotes</th>\n",
       "      <th>languagedependence</th>\n",
       "      <th>usersrated</th>\n",
       "      <th>...</th>\n",
       "      <th>podcast</th>\n",
       "      <th>boardgamedesigner_cnt</th>\n",
       "      <th>boardgameartist_cnt</th>\n",
       "      <th>boardgamepublisher_cnt</th>\n",
       "      <th>boardgamehonor_cnt</th>\n",
       "      <th>boardgamecategory_cnt</th>\n",
       "      <th>boardgamemechanic_cnt</th>\n",
       "      <th>boardgameexpansion_cnt</th>\n",
       "      <th>boardgameversion_cnt</th>\n",
       "      <th>boardgamefamily_cnt</th>\n",
       "    </tr>\n",
       "  </thead>\n",
       "  <tbody>\n",
       "    <tr>\n",
       "      <th>0</th>\n",
       "      <td>8.77503</td>\n",
       "      <td>2017</td>\n",
       "      <td>1</td>\n",
       "      <td>4</td>\n",
       "      <td>60</td>\n",
       "      <td>120</td>\n",
       "      <td>14</td>\n",
       "      <td>1171</td>\n",
       "      <td>4</td>\n",
       "      <td>44354</td>\n",
       "      <td>...</td>\n",
       "      <td>147</td>\n",
       "      <td>1</td>\n",
       "      <td>3</td>\n",
       "      <td>12</td>\n",
       "      <td>30</td>\n",
       "      <td>5</td>\n",
       "      <td>20</td>\n",
       "      <td>12</td>\n",
       "      <td>23</td>\n",
       "      <td>12</td>\n",
       "    </tr>\n",
       "    <tr>\n",
       "      <th>1</th>\n",
       "      <td>8.60721</td>\n",
       "      <td>2015</td>\n",
       "      <td>2</td>\n",
       "      <td>4</td>\n",
       "      <td>60</td>\n",
       "      <td>60</td>\n",
       "      <td>13</td>\n",
       "      <td>668</td>\n",
       "      <td>4</td>\n",
       "      <td>43007</td>\n",
       "      <td>...</td>\n",
       "      <td>170</td>\n",
       "      <td>2</td>\n",
       "      <td>1</td>\n",
       "      <td>11</td>\n",
       "      <td>30</td>\n",
       "      <td>2</td>\n",
       "      <td>8</td>\n",
       "      <td>0</td>\n",
       "      <td>33</td>\n",
       "      <td>7</td>\n",
       "    </tr>\n",
       "    <tr>\n",
       "      <th>2</th>\n",
       "      <td>8.66981</td>\n",
       "      <td>2018</td>\n",
       "      <td>2</td>\n",
       "      <td>4</td>\n",
       "      <td>60</td>\n",
       "      <td>120</td>\n",
       "      <td>14</td>\n",
       "      <td>521</td>\n",
       "      <td>1</td>\n",
       "      <td>21618</td>\n",
       "      <td>...</td>\n",
       "      <td>28</td>\n",
       "      <td>3</td>\n",
       "      <td>3</td>\n",
       "      <td>14</td>\n",
       "      <td>18</td>\n",
       "      <td>3</td>\n",
       "      <td>9</td>\n",
       "      <td>0</td>\n",
       "      <td>16</td>\n",
       "      <td>9</td>\n",
       "    </tr>\n",
       "    <tr>\n",
       "      <th>3</th>\n",
       "      <td>8.42870</td>\n",
       "      <td>2016</td>\n",
       "      <td>1</td>\n",
       "      <td>5</td>\n",
       "      <td>120</td>\n",
       "      <td>120</td>\n",
       "      <td>12</td>\n",
       "      <td>1800</td>\n",
       "      <td>3</td>\n",
       "      <td>68412</td>\n",
       "      <td>...</td>\n",
       "      <td>163</td>\n",
       "      <td>1</td>\n",
       "      <td>1</td>\n",
       "      <td>25</td>\n",
       "      <td>39</td>\n",
       "      <td>6</td>\n",
       "      <td>11</td>\n",
       "      <td>21</td>\n",
       "      <td>35</td>\n",
       "      <td>8</td>\n",
       "    </tr>\n",
       "    <tr>\n",
       "      <th>4</th>\n",
       "      <td>8.68957</td>\n",
       "      <td>2017</td>\n",
       "      <td>3</td>\n",
       "      <td>6</td>\n",
       "      <td>240</td>\n",
       "      <td>480</td>\n",
       "      <td>14</td>\n",
       "      <td>335</td>\n",
       "      <td>4</td>\n",
       "      <td>14385</td>\n",
       "      <td>...</td>\n",
       "      <td>53</td>\n",
       "      <td>3</td>\n",
       "      <td>1</td>\n",
       "      <td>11</td>\n",
       "      <td>2</td>\n",
       "      <td>8</td>\n",
       "      <td>14</td>\n",
       "      <td>3</td>\n",
       "      <td>12</td>\n",
       "      <td>5</td>\n",
       "    </tr>\n",
       "  </tbody>\n",
       "</table>\n",
       "<p>5 rows × 33 columns</p>\n",
       "</div>"
      ],
      "text/plain": [
       "   average  yearpublished  minplayers  maxplayers  minplaytime  maxplaytime  \\\n",
       "0  8.77503           2017           1           4           60          120   \n",
       "1  8.60721           2015           2           4           60           60   \n",
       "2  8.66981           2018           2           4           60          120   \n",
       "3  8.42870           2016           1           5          120          120   \n",
       "4  8.68957           2017           3           6          240          480   \n",
       "\n",
       "   minage  totalvotes  languagedependence  usersrated  ...  podcast  \\\n",
       "0      14        1171                   4       44354  ...      147   \n",
       "1      13         668                   4       43007  ...      170   \n",
       "2      14         521                   1       21618  ...       28   \n",
       "3      12        1800                   3       68412  ...      163   \n",
       "4      14         335                   4       14385  ...       53   \n",
       "\n",
       "   boardgamedesigner_cnt  boardgameartist_cnt  boardgamepublisher_cnt  \\\n",
       "0                      1                    3                      12   \n",
       "1                      2                    1                      11   \n",
       "2                      3                    3                      14   \n",
       "3                      1                    1                      25   \n",
       "4                      3                    1                      11   \n",
       "\n",
       "   boardgamehonor_cnt  boardgamecategory_cnt  boardgamemechanic_cnt  \\\n",
       "0                  30                      5                     20   \n",
       "1                  30                      2                      8   \n",
       "2                  18                      3                      9   \n",
       "3                  39                      6                     11   \n",
       "4                   2                      8                     14   \n",
       "\n",
       "   boardgameexpansion_cnt  boardgameversion_cnt  boardgamefamily_cnt  \n",
       "0                      12                    23                   12  \n",
       "1                       0                    33                    7  \n",
       "2                       0                    16                    9  \n",
       "3                      21                    35                    8  \n",
       "4                       3                    12                    5  \n",
       "\n",
       "[5 rows x 33 columns]"
      ]
     },
     "execution_count": 2,
     "metadata": {},
     "output_type": "execute_result"
    }
   ],
   "source": [
    "# read in csv file\n",
    "game_info_df=pd.read_csv(\"../data/boardgames_07022021.csv\")\n",
    "# remove duplicate games\n",
    "game_info_df.drop_duplicates(subset=['objectid'], inplace=True)\n",
    "# choose the attributes which have numerical datatype\n",
    "game_info_df=game_info_df[['average', 'yearpublished',  'minplayers',\n",
    "       'maxplayers', 'minplaytime', 'maxplaytime', 'minage', 'totalvotes', 'languagedependence',\n",
    "       'usersrated', 'stddev', 'avgweight','numweights', 'numgeeklists', 'numtrading', 'numwanting', 'numcomments',\n",
    "       'siteviews', 'numplays', 'numplays_month', 'news', 'blogs', 'weblink',\n",
    "       'podcast',  'boardgamedesigner_cnt', 'boardgameartist_cnt',\n",
    "       'boardgamepublisher_cnt', 'boardgamehonor_cnt', 'boardgamecategory_cnt',\n",
    "       'boardgamemechanic_cnt', 'boardgameexpansion_cnt',\n",
    "       'boardgameversion_cnt', 'boardgamefamily_cnt']].copy()\n",
    "# drop the null rows\n",
    "game_info_df.dropna(inplace=True)\n",
    "# remove the rows which have invalid values\n",
    "game_info_df.drop(game_info_df[game_info_df['average'] ==0].index, inplace = True)\n",
    "game_info_df.drop(game_info_df[game_info_df['minplayers'] ==0].index, inplace = True)\n",
    "game_info_df.drop(game_info_df[game_info_df['maxplayers'] ==0].index, inplace = True)\n",
    "game_info_df.drop(game_info_df[game_info_df['minplaytime'] ==0].index, inplace = True)\n",
    "game_info_df.drop(game_info_df[game_info_df['maxplaytime'] ==0].index, inplace = True)\n",
    "game_info_df.drop(game_info_df[game_info_df['totalvotes'] ==0].index, inplace = True)\n",
    "game_info_df.head()"
   ]
  },
  {
   "cell_type": "code",
   "execution_count": 3,
   "id": "0f5ddf1a",
   "metadata": {},
   "outputs": [
    {
     "data": {
      "text/html": [
       "<div>\n",
       "<style scoped>\n",
       "    .dataframe tbody tr th:only-of-type {\n",
       "        vertical-align: middle;\n",
       "    }\n",
       "\n",
       "    .dataframe tbody tr th {\n",
       "        vertical-align: top;\n",
       "    }\n",
       "\n",
       "    .dataframe thead th {\n",
       "        text-align: right;\n",
       "    }\n",
       "</style>\n",
       "<table border=\"1\" class=\"dataframe\">\n",
       "  <thead>\n",
       "    <tr style=\"text-align: right;\">\n",
       "      <th></th>\n",
       "      <th>count</th>\n",
       "      <th>mean</th>\n",
       "      <th>std</th>\n",
       "      <th>min</th>\n",
       "      <th>25%</th>\n",
       "      <th>50%</th>\n",
       "      <th>75%</th>\n",
       "      <th>max</th>\n",
       "    </tr>\n",
       "  </thead>\n",
       "  <tbody>\n",
       "    <tr>\n",
       "      <th>average</th>\n",
       "      <td>19316.0</td>\n",
       "      <td>6.448354</td>\n",
       "      <td>0.923534</td>\n",
       "      <td>1.0</td>\n",
       "      <td>5.885825</td>\n",
       "      <td>6.48070</td>\n",
       "      <td>7.063608</td>\n",
       "      <td>9.5</td>\n",
       "    </tr>\n",
       "    <tr>\n",
       "      <th>yearpublished</th>\n",
       "      <td>19316.0</td>\n",
       "      <td>1984.922189</td>\n",
       "      <td>203.982472</td>\n",
       "      <td>-3500.0</td>\n",
       "      <td>1998.000000</td>\n",
       "      <td>2010.00000</td>\n",
       "      <td>2016.000000</td>\n",
       "      <td>2022.0</td>\n",
       "    </tr>\n",
       "    <tr>\n",
       "      <th>minplayers</th>\n",
       "      <td>19316.0</td>\n",
       "      <td>2.008128</td>\n",
       "      <td>0.676124</td>\n",
       "      <td>1.0</td>\n",
       "      <td>2.000000</td>\n",
       "      <td>2.00000</td>\n",
       "      <td>2.000000</td>\n",
       "      <td>10.0</td>\n",
       "    </tr>\n",
       "    <tr>\n",
       "      <th>maxplayers</th>\n",
       "      <td>19316.0</td>\n",
       "      <td>5.440930</td>\n",
       "      <td>13.146152</td>\n",
       "      <td>1.0</td>\n",
       "      <td>4.000000</td>\n",
       "      <td>4.00000</td>\n",
       "      <td>6.000000</td>\n",
       "      <td>999.0</td>\n",
       "    </tr>\n",
       "    <tr>\n",
       "      <th>minplaytime</th>\n",
       "      <td>19316.0</td>\n",
       "      <td>69.816007</td>\n",
       "      <td>472.459600</td>\n",
       "      <td>1.0</td>\n",
       "      <td>20.000000</td>\n",
       "      <td>37.00000</td>\n",
       "      <td>60.000000</td>\n",
       "      <td>60000.0</td>\n",
       "    </tr>\n",
       "    <tr>\n",
       "      <th>maxplaytime</th>\n",
       "      <td>19316.0</td>\n",
       "      <td>96.815749</td>\n",
       "      <td>558.755905</td>\n",
       "      <td>1.0</td>\n",
       "      <td>30.000000</td>\n",
       "      <td>45.00000</td>\n",
       "      <td>90.000000</td>\n",
       "      <td>60000.0</td>\n",
       "    </tr>\n",
       "    <tr>\n",
       "      <th>minage</th>\n",
       "      <td>19316.0</td>\n",
       "      <td>9.688704</td>\n",
       "      <td>3.611765</td>\n",
       "      <td>0.0</td>\n",
       "      <td>8.000000</td>\n",
       "      <td>10.00000</td>\n",
       "      <td>12.000000</td>\n",
       "      <td>25.0</td>\n",
       "    </tr>\n",
       "    <tr>\n",
       "      <th>totalvotes</th>\n",
       "      <td>19316.0</td>\n",
       "      <td>17.054670</td>\n",
       "      <td>67.723891</td>\n",
       "      <td>1.0</td>\n",
       "      <td>2.000000</td>\n",
       "      <td>4.00000</td>\n",
       "      <td>9.000000</td>\n",
       "      <td>2108.0</td>\n",
       "    </tr>\n",
       "    <tr>\n",
       "      <th>languagedependence</th>\n",
       "      <td>19316.0</td>\n",
       "      <td>1.669704</td>\n",
       "      <td>1.373367</td>\n",
       "      <td>0.0</td>\n",
       "      <td>1.000000</td>\n",
       "      <td>1.00000</td>\n",
       "      <td>3.000000</td>\n",
       "      <td>5.0</td>\n",
       "    </tr>\n",
       "    <tr>\n",
       "      <th>usersrated</th>\n",
       "      <td>19316.0</td>\n",
       "      <td>923.496946</td>\n",
       "      <td>3721.562843</td>\n",
       "      <td>1.0</td>\n",
       "      <td>57.000000</td>\n",
       "      <td>139.00000</td>\n",
       "      <td>449.000000</td>\n",
       "      <td>104891.0</td>\n",
       "    </tr>\n",
       "    <tr>\n",
       "      <th>stddev</th>\n",
       "      <td>19316.0</td>\n",
       "      <td>1.502877</td>\n",
       "      <td>0.300791</td>\n",
       "      <td>0.0</td>\n",
       "      <td>1.309702</td>\n",
       "      <td>1.46393</td>\n",
       "      <td>1.653910</td>\n",
       "      <td>4.5</td>\n",
       "    </tr>\n",
       "    <tr>\n",
       "      <th>avgweight</th>\n",
       "      <td>19316.0</td>\n",
       "      <td>2.040167</td>\n",
       "      <td>0.844400</td>\n",
       "      <td>0.0</td>\n",
       "      <td>1.369075</td>\n",
       "      <td>2.00000</td>\n",
       "      <td>2.589700</td>\n",
       "      <td>5.0</td>\n",
       "    </tr>\n",
       "    <tr>\n",
       "      <th>numweights</th>\n",
       "      <td>19316.0</td>\n",
       "      <td>54.691810</td>\n",
       "      <td>215.631358</td>\n",
       "      <td>0.0</td>\n",
       "      <td>4.000000</td>\n",
       "      <td>11.00000</td>\n",
       "      <td>30.000000</td>\n",
       "      <td>7567.0</td>\n",
       "    </tr>\n",
       "    <tr>\n",
       "      <th>numgeeklists</th>\n",
       "      <td>19316.0</td>\n",
       "      <td>261.421568</td>\n",
       "      <td>690.549399</td>\n",
       "      <td>0.0</td>\n",
       "      <td>26.000000</td>\n",
       "      <td>68.00000</td>\n",
       "      <td>206.000000</td>\n",
       "      <td>15950.0</td>\n",
       "    </tr>\n",
       "    <tr>\n",
       "      <th>numtrading</th>\n",
       "      <td>19316.0</td>\n",
       "      <td>46.492856</td>\n",
       "      <td>104.965601</td>\n",
       "      <td>0.0</td>\n",
       "      <td>5.000000</td>\n",
       "      <td>15.00000</td>\n",
       "      <td>43.000000</td>\n",
       "      <td>2477.0</td>\n",
       "    </tr>\n",
       "    <tr>\n",
       "      <th>numwanting</th>\n",
       "      <td>19316.0</td>\n",
       "      <td>45.388642</td>\n",
       "      <td>123.863147</td>\n",
       "      <td>0.0</td>\n",
       "      <td>3.000000</td>\n",
       "      <td>10.00000</td>\n",
       "      <td>32.000000</td>\n",
       "      <td>2085.0</td>\n",
       "    </tr>\n",
       "    <tr>\n",
       "      <th>numcomments</th>\n",
       "      <td>19316.0</td>\n",
       "      <td>227.181611</td>\n",
       "      <td>689.213188</td>\n",
       "      <td>0.0</td>\n",
       "      <td>25.000000</td>\n",
       "      <td>57.00000</td>\n",
       "      <td>154.000000</td>\n",
       "      <td>18840.0</td>\n",
       "    </tr>\n",
       "    <tr>\n",
       "      <th>siteviews</th>\n",
       "      <td>19316.0</td>\n",
       "      <td>95715.405519</td>\n",
       "      <td>266620.755430</td>\n",
       "      <td>1455.0</td>\n",
       "      <td>15405.000000</td>\n",
       "      <td>31252.50000</td>\n",
       "      <td>75763.000000</td>\n",
       "      <td>10583753.0</td>\n",
       "    </tr>\n",
       "    <tr>\n",
       "      <th>numplays</th>\n",
       "      <td>19316.0</td>\n",
       "      <td>3034.515997</td>\n",
       "      <td>17229.631698</td>\n",
       "      <td>0.0</td>\n",
       "      <td>73.000000</td>\n",
       "      <td>247.00000</td>\n",
       "      <td>1020.250000</td>\n",
       "      <td>699142.0</td>\n",
       "    </tr>\n",
       "    <tr>\n",
       "      <th>numplays_month</th>\n",
       "      <td>19316.0</td>\n",
       "      <td>0.946573</td>\n",
       "      <td>7.398893</td>\n",
       "      <td>0.0</td>\n",
       "      <td>0.000000</td>\n",
       "      <td>0.00000</td>\n",
       "      <td>0.000000</td>\n",
       "      <td>380.0</td>\n",
       "    </tr>\n",
       "    <tr>\n",
       "      <th>news</th>\n",
       "      <td>19316.0</td>\n",
       "      <td>0.601419</td>\n",
       "      <td>1.420429</td>\n",
       "      <td>0.0</td>\n",
       "      <td>0.000000</td>\n",
       "      <td>0.00000</td>\n",
       "      <td>1.000000</td>\n",
       "      <td>37.0</td>\n",
       "    </tr>\n",
       "    <tr>\n",
       "      <th>blogs</th>\n",
       "      <td>19316.0</td>\n",
       "      <td>12.695434</td>\n",
       "      <td>45.890235</td>\n",
       "      <td>0.0</td>\n",
       "      <td>0.000000</td>\n",
       "      <td>2.00000</td>\n",
       "      <td>8.000000</td>\n",
       "      <td>1473.0</td>\n",
       "    </tr>\n",
       "    <tr>\n",
       "      <th>weblink</th>\n",
       "      <td>19316.0</td>\n",
       "      <td>6.851677</td>\n",
       "      <td>11.562909</td>\n",
       "      <td>0.0</td>\n",
       "      <td>1.000000</td>\n",
       "      <td>3.00000</td>\n",
       "      <td>8.000000</td>\n",
       "      <td>207.0</td>\n",
       "    </tr>\n",
       "    <tr>\n",
       "      <th>podcast</th>\n",
       "      <td>19316.0</td>\n",
       "      <td>2.222044</td>\n",
       "      <td>8.557106</td>\n",
       "      <td>0.0</td>\n",
       "      <td>0.000000</td>\n",
       "      <td>0.00000</td>\n",
       "      <td>1.000000</td>\n",
       "      <td>588.0</td>\n",
       "    </tr>\n",
       "    <tr>\n",
       "      <th>boardgamedesigner_cnt</th>\n",
       "      <td>19316.0</td>\n",
       "      <td>1.353541</td>\n",
       "      <td>0.791904</td>\n",
       "      <td>0.0</td>\n",
       "      <td>1.000000</td>\n",
       "      <td>1.00000</td>\n",
       "      <td>2.000000</td>\n",
       "      <td>21.0</td>\n",
       "    </tr>\n",
       "    <tr>\n",
       "      <th>boardgameartist_cnt</th>\n",
       "      <td>19316.0</td>\n",
       "      <td>1.465624</td>\n",
       "      <td>4.820120</td>\n",
       "      <td>0.0</td>\n",
       "      <td>0.000000</td>\n",
       "      <td>1.00000</td>\n",
       "      <td>2.000000</td>\n",
       "      <td>509.0</td>\n",
       "    </tr>\n",
       "    <tr>\n",
       "      <th>boardgamepublisher_cnt</th>\n",
       "      <td>19316.0</td>\n",
       "      <td>2.733899</td>\n",
       "      <td>5.446800</td>\n",
       "      <td>1.0</td>\n",
       "      <td>1.000000</td>\n",
       "      <td>1.00000</td>\n",
       "      <td>3.000000</td>\n",
       "      <td>195.0</td>\n",
       "    </tr>\n",
       "    <tr>\n",
       "      <th>boardgamehonor_cnt</th>\n",
       "      <td>19316.0</td>\n",
       "      <td>0.591530</td>\n",
       "      <td>2.127580</td>\n",
       "      <td>0.0</td>\n",
       "      <td>0.000000</td>\n",
       "      <td>0.00000</td>\n",
       "      <td>0.000000</td>\n",
       "      <td>53.0</td>\n",
       "    </tr>\n",
       "    <tr>\n",
       "      <th>boardgamecategory_cnt</th>\n",
       "      <td>19316.0</td>\n",
       "      <td>2.644440</td>\n",
       "      <td>1.393190</td>\n",
       "      <td>0.0</td>\n",
       "      <td>2.000000</td>\n",
       "      <td>2.00000</td>\n",
       "      <td>3.000000</td>\n",
       "      <td>14.0</td>\n",
       "    </tr>\n",
       "    <tr>\n",
       "      <th>boardgamemechanic_cnt</th>\n",
       "      <td>19316.0</td>\n",
       "      <td>2.935183</td>\n",
       "      <td>2.180217</td>\n",
       "      <td>0.0</td>\n",
       "      <td>1.000000</td>\n",
       "      <td>2.00000</td>\n",
       "      <td>4.000000</td>\n",
       "      <td>20.0</td>\n",
       "    </tr>\n",
       "    <tr>\n",
       "      <th>boardgameexpansion_cnt</th>\n",
       "      <td>19316.0</td>\n",
       "      <td>1.416028</td>\n",
       "      <td>7.642378</td>\n",
       "      <td>0.0</td>\n",
       "      <td>0.000000</td>\n",
       "      <td>0.00000</td>\n",
       "      <td>1.000000</td>\n",
       "      <td>513.0</td>\n",
       "    </tr>\n",
       "    <tr>\n",
       "      <th>boardgameversion_cnt</th>\n",
       "      <td>19316.0</td>\n",
       "      <td>3.766981</td>\n",
       "      <td>12.650044</td>\n",
       "      <td>0.0</td>\n",
       "      <td>1.000000</td>\n",
       "      <td>2.00000</td>\n",
       "      <td>3.000000</td>\n",
       "      <td>1059.0</td>\n",
       "    </tr>\n",
       "    <tr>\n",
       "      <th>boardgamefamily_cnt</th>\n",
       "      <td>19316.0</td>\n",
       "      <td>2.144699</td>\n",
       "      <td>2.237845</td>\n",
       "      <td>0.0</td>\n",
       "      <td>1.000000</td>\n",
       "      <td>2.00000</td>\n",
       "      <td>3.000000</td>\n",
       "      <td>104.0</td>\n",
       "    </tr>\n",
       "  </tbody>\n",
       "</table>\n",
       "</div>"
      ],
      "text/plain": [
       "                          count          mean            std     min  \\\n",
       "average                 19316.0      6.448354       0.923534     1.0   \n",
       "yearpublished           19316.0   1984.922189     203.982472 -3500.0   \n",
       "minplayers              19316.0      2.008128       0.676124     1.0   \n",
       "maxplayers              19316.0      5.440930      13.146152     1.0   \n",
       "minplaytime             19316.0     69.816007     472.459600     1.0   \n",
       "maxplaytime             19316.0     96.815749     558.755905     1.0   \n",
       "minage                  19316.0      9.688704       3.611765     0.0   \n",
       "totalvotes              19316.0     17.054670      67.723891     1.0   \n",
       "languagedependence      19316.0      1.669704       1.373367     0.0   \n",
       "usersrated              19316.0    923.496946    3721.562843     1.0   \n",
       "stddev                  19316.0      1.502877       0.300791     0.0   \n",
       "avgweight               19316.0      2.040167       0.844400     0.0   \n",
       "numweights              19316.0     54.691810     215.631358     0.0   \n",
       "numgeeklists            19316.0    261.421568     690.549399     0.0   \n",
       "numtrading              19316.0     46.492856     104.965601     0.0   \n",
       "numwanting              19316.0     45.388642     123.863147     0.0   \n",
       "numcomments             19316.0    227.181611     689.213188     0.0   \n",
       "siteviews               19316.0  95715.405519  266620.755430  1455.0   \n",
       "numplays                19316.0   3034.515997   17229.631698     0.0   \n",
       "numplays_month          19316.0      0.946573       7.398893     0.0   \n",
       "news                    19316.0      0.601419       1.420429     0.0   \n",
       "blogs                   19316.0     12.695434      45.890235     0.0   \n",
       "weblink                 19316.0      6.851677      11.562909     0.0   \n",
       "podcast                 19316.0      2.222044       8.557106     0.0   \n",
       "boardgamedesigner_cnt   19316.0      1.353541       0.791904     0.0   \n",
       "boardgameartist_cnt     19316.0      1.465624       4.820120     0.0   \n",
       "boardgamepublisher_cnt  19316.0      2.733899       5.446800     1.0   \n",
       "boardgamehonor_cnt      19316.0      0.591530       2.127580     0.0   \n",
       "boardgamecategory_cnt   19316.0      2.644440       1.393190     0.0   \n",
       "boardgamemechanic_cnt   19316.0      2.935183       2.180217     0.0   \n",
       "boardgameexpansion_cnt  19316.0      1.416028       7.642378     0.0   \n",
       "boardgameversion_cnt    19316.0      3.766981      12.650044     0.0   \n",
       "boardgamefamily_cnt     19316.0      2.144699       2.237845     0.0   \n",
       "\n",
       "                                 25%          50%           75%         max  \n",
       "average                     5.885825      6.48070      7.063608         9.5  \n",
       "yearpublished            1998.000000   2010.00000   2016.000000      2022.0  \n",
       "minplayers                  2.000000      2.00000      2.000000        10.0  \n",
       "maxplayers                  4.000000      4.00000      6.000000       999.0  \n",
       "minplaytime                20.000000     37.00000     60.000000     60000.0  \n",
       "maxplaytime                30.000000     45.00000     90.000000     60000.0  \n",
       "minage                      8.000000     10.00000     12.000000        25.0  \n",
       "totalvotes                  2.000000      4.00000      9.000000      2108.0  \n",
       "languagedependence          1.000000      1.00000      3.000000         5.0  \n",
       "usersrated                 57.000000    139.00000    449.000000    104891.0  \n",
       "stddev                      1.309702      1.46393      1.653910         4.5  \n",
       "avgweight                   1.369075      2.00000      2.589700         5.0  \n",
       "numweights                  4.000000     11.00000     30.000000      7567.0  \n",
       "numgeeklists               26.000000     68.00000    206.000000     15950.0  \n",
       "numtrading                  5.000000     15.00000     43.000000      2477.0  \n",
       "numwanting                  3.000000     10.00000     32.000000      2085.0  \n",
       "numcomments                25.000000     57.00000    154.000000     18840.0  \n",
       "siteviews               15405.000000  31252.50000  75763.000000  10583753.0  \n",
       "numplays                   73.000000    247.00000   1020.250000    699142.0  \n",
       "numplays_month              0.000000      0.00000      0.000000       380.0  \n",
       "news                        0.000000      0.00000      1.000000        37.0  \n",
       "blogs                       0.000000      2.00000      8.000000      1473.0  \n",
       "weblink                     1.000000      3.00000      8.000000       207.0  \n",
       "podcast                     0.000000      0.00000      1.000000       588.0  \n",
       "boardgamedesigner_cnt       1.000000      1.00000      2.000000        21.0  \n",
       "boardgameartist_cnt         0.000000      1.00000      2.000000       509.0  \n",
       "boardgamepublisher_cnt      1.000000      1.00000      3.000000       195.0  \n",
       "boardgamehonor_cnt          0.000000      0.00000      0.000000        53.0  \n",
       "boardgamecategory_cnt       2.000000      2.00000      3.000000        14.0  \n",
       "boardgamemechanic_cnt       1.000000      2.00000      4.000000        20.0  \n",
       "boardgameexpansion_cnt      0.000000      0.00000      1.000000       513.0  \n",
       "boardgameversion_cnt        1.000000      2.00000      3.000000      1059.0  \n",
       "boardgamefamily_cnt         1.000000      2.00000      3.000000       104.0  "
      ]
     },
     "execution_count": 3,
     "metadata": {},
     "output_type": "execute_result"
    }
   ],
   "source": [
    "# Get the general idea about the dataset value range\n",
    "game_info_df.describe().T"
   ]
  },
  {
   "cell_type": "markdown",
   "id": "76bc2cdf",
   "metadata": {},
   "source": [
    "## Select features, Create Train Test Split, Scale the data"
   ]
  },
  {
   "cell_type": "code",
   "execution_count": 4,
   "id": "1fcadc1e",
   "metadata": {},
   "outputs": [
    {
     "data": {
      "text/plain": [
       "((19316, 32), (19316,))"
      ]
     },
     "execution_count": 4,
     "metadata": {},
     "output_type": "execute_result"
    }
   ],
   "source": [
    "# Set features (X) and target (y)\n",
    "y=game_info_df['average']\n",
    "X=game_info_df.drop(['average'],axis=1)\n",
    "X.shape, y.shape"
   ]
  },
  {
   "cell_type": "code",
   "execution_count": 5,
   "id": "feec9d0a",
   "metadata": {},
   "outputs": [
    {
     "data": {
      "text/plain": [
       "Index(['yearpublished', 'minplayers', 'maxplayers', 'minplaytime',\n",
       "       'maxplaytime', 'minage', 'totalvotes', 'languagedependence',\n",
       "       'usersrated', 'stddev', 'avgweight', 'numweights', 'numgeeklists',\n",
       "       'numtrading', 'numwanting', 'numcomments', 'siteviews', 'numplays',\n",
       "       'numplays_month', 'news', 'blogs', 'weblink', 'podcast',\n",
       "       'boardgamedesigner_cnt', 'boardgameartist_cnt',\n",
       "       'boardgamepublisher_cnt', 'boardgamehonor_cnt', 'boardgamecategory_cnt',\n",
       "       'boardgamemechanic_cnt', 'boardgameexpansion_cnt',\n",
       "       'boardgameversion_cnt', 'boardgamefamily_cnt'],\n",
       "      dtype='object')"
      ]
     },
     "execution_count": 5,
     "metadata": {},
     "output_type": "execute_result"
    }
   ],
   "source": [
    "feature_names=X.columns\n",
    "feature_names"
   ]
  },
  {
   "cell_type": "code",
   "execution_count": 6,
   "id": "f567f971",
   "metadata": {},
   "outputs": [
    {
     "data": {
      "text/plain": [
       "((3863, 32), (3863,))"
      ]
     },
     "execution_count": 6,
     "metadata": {},
     "output_type": "execute_result"
    }
   ],
   "source": [
    "# Create a Train Test Split (20/80)\n",
    "from sklearn.model_selection import train_test_split\n",
    "X_train, X_test, y_train, y_test = train_test_split(X, y,  train_size=0.2,random_state=101)\n",
    "X_train.shape, y_train.shape"
   ]
  },
  {
   "cell_type": "code",
   "execution_count": 20,
   "id": "e9e27fec",
   "metadata": {},
   "outputs": [],
   "source": [
    "# Scale the data\n",
    "from sklearn.preprocessing import MinMaxScaler\n",
    "X_scaler = MinMaxScaler().fit(X_train)\n",
    "X_train_scaled = X_scaler.transform(X_train)\n",
    "X_test_scaled = X_scaler.transform(X_test)\n",
    "y_train_trans = np.log1p(y_train)\n",
    "y_test_trans = np.log1p(y_test)"
   ]
  },
  {
   "cell_type": "markdown",
   "id": "e085cd22",
   "metadata": {},
   "source": [
    "## RandomeForestRegressor"
   ]
  },
  {
   "cell_type": "code",
   "execution_count": 8,
   "id": "97f93a2f",
   "metadata": {},
   "outputs": [
    {
     "name": "stdout",
     "output_type": "stream",
     "text": [
      "Training Data Score: 0.95421\n",
      "Testing Data Score: 0.66360\n"
     ]
    },
    {
     "data": {
      "image/png": "[encoded data removed]",
      "text/plain": [
       "<Figure size 432x288 with 1 Axes>"
      ]
     },
     "metadata": {
      "needs_background": "light"
     },
     "output_type": "display_data"
    }
   ],
   "source": [
    "from sklearn.ensemble import RandomForestRegressor\n",
    " # Create a random forest regressor\n",
    "rf = RandomForestRegressor(n_estimators=500)\n",
    "rf = rf.fit(X_train_scaled, y_train)\n",
    "print(f\"Training Data Score: {rf.score(X_train_scaled, y_train):.5f}\")\n",
    "print(f\"Testing Data Score: {rf.score(X_test_scaled, y_test):.5f}\")\n",
    "predictions = rf.predict(X)\n",
    "# Plot Residuals\n",
    "plt.scatter(predictions, -predictions + y)\n",
    "plt.hlines(y=0, xmin=predictions.min(), xmax=predictions.max())\n",
    "plt.show()"
   ]
  },
  {
   "cell_type": "code",
   "execution_count": 9,
   "id": "7a41c6ac",
   "metadata": {},
   "outputs": [
    {
     "data": {
      "image/png": "[encoded data removed]",
      "text/plain": [
       "<Figure size 432x288 with 1 Axes>"
      ]
     },
     "metadata": {},
     "output_type": "display_data"
    },
    {
     "data": {
      "text/plain": [
       "[(0.30012673750368646, 'numwanting'),\n",
       " (0.14929268611902335, 'avgweight'),\n",
       " (0.12921796601216995, 'yearpublished'),\n",
       " (0.06301305453516107, 'stddev'),\n",
       " (0.04955108352328727, 'numtrading'),\n",
       " (0.03507752371046379, 'numplays'),\n",
       " (0.028879657035099742, 'numgeeklists'),\n",
       " (0.025378657724624904, 'siteviews'),\n",
       " (0.022776410939553755, 'usersrated'),\n",
       " (0.015406294073701341, 'numcomments'),\n",
       " (0.01466564126232407, 'maxplayers'),\n",
       " (0.014616161981894634, 'maxplaytime'),\n",
       " (0.013226311924027465, 'boardgamefamily_cnt'),\n",
       " (0.012273986905334384, 'minage'),\n",
       " (0.012107198623192579, 'totalvotes'),\n",
       " (0.011870170588932017, 'numweights'),\n",
       " (0.01046545529434859, 'weblink'),\n",
       " (0.0099045053677172, 'boardgamemechanic_cnt'),\n",
       " (0.009336372427852046, 'boardgameversion_cnt'),\n",
       " (0.009222582759528019, 'minplaytime'),\n",
       " (0.008736055720826981, 'blogs'),\n",
       " (0.008686920580218072, 'languagedependence'),\n",
       " (0.008645114132275799, 'boardgameexpansion_cnt'),\n",
       " (0.008255124367173322, 'boardgamecategory_cnt'),\n",
       " (0.005866652359632539, 'boardgamepublisher_cnt'),\n",
       " (0.0057261022820870745, 'boardgameartist_cnt'),\n",
       " (0.005697678624258301, 'boardgamedesigner_cnt'),\n",
       " (0.003695323645740893, 'podcast'),\n",
       " (0.0033322614959147563, 'minplayers'),\n",
       " (0.0018334481823149098, 'numplays_month'),\n",
       " (0.0016097989071440126, 'boardgamehonor_cnt'),\n",
       " (0.0015070613904907338, 'news')]"
      ]
     },
     "execution_count": 9,
     "metadata": {},
     "output_type": "execute_result"
    }
   ],
   "source": [
    "importances = rf.feature_importances_\n",
    "rf_feature_importance=sorted(zip(importances, feature_names), reverse=True)\n",
    "plt.pie([a[0] for a in rf_feature_importance],labels=[a[1] for a in rf_feature_importance],normalize=True)\n",
    "plt.show()\n",
    "rf_feature_importance"
   ]
  },
  {
   "cell_type": "markdown",
   "id": "2d2bbc75",
   "metadata": {},
   "source": [
    "## DecisionTreeRegressor"
   ]
  },
  {
   "cell_type": "code",
   "execution_count": 10,
   "id": "146732a1",
   "metadata": {},
   "outputs": [
    {
     "name": "stdout",
     "output_type": "stream",
     "text": [
      "Training Data Score: 1.00000\n",
      "Testing Data Score: 0.27697\n"
     ]
    },
    {
     "data": {
      "image/png": "[encoded data removed]",
      "text/plain": [
       "<Figure size 432x288 with 1 Axes>"
      ]
     },
     "metadata": {
      "needs_background": "light"
     },
     "output_type": "display_data"
    }
   ],
   "source": [
    "from sklearn import tree\n",
    "dtr = tree.DecisionTreeRegressor()\n",
    "dtr = dtr.fit(X_train_scaled, y_train)\n",
    "dtr.score(X_train_scaled, y_train)\n",
    "print(f\"Training Data Score: {dtr.score(X_train_scaled, y_train):.5f}\")\n",
    "print(f\"Testing Data Score: {dtr.score(X_test_scaled, y_test):.5f}\")\n",
    "predictions = dtr.predict(X)\n",
    "# Plot Residuals\n",
    "plt.scatter(predictions, -predictions + y)\n",
    "plt.hlines(y=0, xmin=predictions.min(), xmax=predictions.max())\n",
    "plt.show()"
   ]
  },
  {
   "cell_type": "code",
   "execution_count": 11,
   "id": "abc46318",
   "metadata": {},
   "outputs": [
    {
     "data": {
      "image/png": "[encoded data removed]",
      "text/plain": [
       "<Figure size 432x288 with 1 Axes>"
      ]
     },
     "metadata": {},
     "output_type": "display_data"
    },
    {
     "data": {
      "text/plain": [
       "[(0.3002311181361051, 'numwanting'),\n",
       " (0.14748782174568992, 'avgweight'),\n",
       " (0.13256927102623206, 'yearpublished'),\n",
       " (0.060895617461739014, 'stddev'),\n",
       " (0.04836575467423496, 'numtrading'),\n",
       " (0.03480696786745058, 'numplays'),\n",
       " (0.03200787778217222, 'numgeeklists'),\n",
       " (0.024850641321823436, 'siteviews'),\n",
       " (0.024800086182869337, 'usersrated'),\n",
       " (0.02355915904084087, 'maxplayers'),\n",
       " (0.020676393888984124, 'numcomments'),\n",
       " (0.013987514649312346, 'totalvotes'),\n",
       " (0.012416973917151252, 'minplaytime'),\n",
       " (0.011775724608615604, 'minage'),\n",
       " (0.010873921777751526, 'boardgameexpansion_cnt'),\n",
       " (0.00968024387402057, 'numweights'),\n",
       " (0.009495490547104858, 'boardgamefamily_cnt'),\n",
       " (0.00928226936896942, 'boardgameversion_cnt'),\n",
       " (0.009173643418816274, 'maxplaytime'),\n",
       " (0.008333932889810417, 'boardgamemechanic_cnt'),\n",
       " (0.008148110915414253, 'boardgamecategory_cnt'),\n",
       " (0.007844901183174657, 'blogs'),\n",
       " (0.007337870246727689, 'languagedependence'),\n",
       " (0.005600332989695034, 'weblink'),\n",
       " (0.00499169843667486, 'boardgamepublisher_cnt'),\n",
       " (0.004927201454240904, 'boardgamedesigner_cnt'),\n",
       " (0.004828776174729386, 'numplays_month'),\n",
       " (0.004282258869643849, 'boardgameartist_cnt'),\n",
       " (0.002980504079144394, 'podcast'),\n",
       " (0.0021770566621620766, 'minplayers'),\n",
       " (0.000972438202639197, 'boardgamehonor_cnt'),\n",
       " (0.0006384266060598924, 'news')]"
      ]
     },
     "execution_count": 11,
     "metadata": {},
     "output_type": "execute_result"
    }
   ],
   "source": [
    "importances = dtr.feature_importances_\n",
    "dtr_feature_importance=sorted(zip(importances, feature_names), reverse=True)\n",
    "plt.pie([a[0] for a in dtr_feature_importance],labels=[a[1] for a in dtr_feature_importance])\n",
    "plt.show()\n",
    "dtr_feature_importance"
   ]
  },
  {
   "cell_type": "code",
   "execution_count": 12,
   "id": "a7ece514",
   "metadata": {
    "scrolled": true
   },
   "outputs": [
    {
     "name": "stdout",
     "output_type": "stream",
     "text": [
      "k: 1, Train/Test Score: 1.000/-0.149\n",
      "k: 3, Train/Test Score: 0.639/0.237\n",
      "k: 5, Train/Test Score: 0.558/0.308\n",
      "k: 7, Train/Test Score: 0.523/0.334\n",
      "k: 9, Train/Test Score: 0.500/0.348\n",
      "k: 11, Train/Test Score: 0.486/0.356\n",
      "k: 13, Train/Test Score: 0.471/0.362\n",
      "k: 15, Train/Test Score: 0.459/0.365\n",
      "k: 17, Train/Test Score: 0.452/0.366\n",
      "k: 19, Train/Test Score: 0.443/0.368\n",
      "k: 21, Train/Test Score: 0.438/0.370\n",
      "k: 23, Train/Test Score: 0.432/0.370\n",
      "k: 25, Train/Test Score: 0.427/0.370\n",
      "k: 27, Train/Test Score: 0.423/0.370\n",
      "k: 29, Train/Test Score: 0.422/0.370\n"
     ]
    },
    {
     "data": {
      "image/png": "[encoded data removed]",
      "text/plain": [
       "<Figure size 432x288 with 1 Axes>"
      ]
     },
     "metadata": {
      "needs_background": "light"
     },
     "output_type": "display_data"
    }
   ],
   "source": [
    "from sklearn.neighbors import KNeighborsRegressor\n",
    "train_scores = []\n",
    "test_scores = []\n",
    "for k in range(1, 30, 2):\n",
    "    knr = KNeighborsRegressor(n_neighbors=k)\n",
    "    knr.fit(X_train_scaled, y_train)\n",
    "    train_score = knr.score(X_train_scaled, y_train)\n",
    "    test_score = knr.score(X_test_scaled, y_test)\n",
    "    train_scores.append(train_score)\n",
    "    test_scores.append(test_score)\n",
    "    print(f\"k: {k}, Train/Test Score: {train_score:.3f}/{test_score:.3f}\")\n",
    "    \n",
    "plt.plot(range(1, 30, 2), train_scores, marker='o')\n",
    "plt.plot(range(1, 30, 2), test_scores, marker=\"x\")\n",
    "plt.xlabel(\"k neighbors\")\n",
    "plt.ylabel(\"Testing accuracy Score\")\n",
    "plt.show()"
   ]
  },
  {
   "cell_type": "markdown",
   "id": "85d7fb89",
   "metadata": {},
   "source": [
    "## DummyRegressor"
   ]
  },
  {
   "cell_type": "code",
   "execution_count": 18,
   "id": "8849baa3",
   "metadata": {},
   "outputs": [
    {
     "name": "stdout",
     "output_type": "stream",
     "text": [
      "Training Data Score: 0.00000\n",
      "Testing Data Score: -0.00033\n"
     ]
    },
    {
     "data": {
      "image/png": "[encoded data removed]",
      "text/plain": [
       "<Figure size 432x288 with 1 Axes>"
      ]
     },
     "metadata": {
      "needs_background": "light"
     },
     "output_type": "display_data"
    }
   ],
   "source": [
    "from sklearn.dummy import DummyRegressor\n",
    "dummy_regr = DummyRegressor(strategy=\"mean\")\n",
    "dummy_regr = dummy_regr.fit(X_train_scaled, y_train)\n",
    "print(f\"Training Data Score: {dummy_regr.score(X_train_scaled, y_train):.5f}\")\n",
    "print(f\"Testing Data Score: {dummy_regr.score(X_test_scaled, y_test):.5f}\")\n",
    "predictions = dummy_regr.predict(X)\n",
    "# Plot Residuals\n",
    "plt.scatter(predictions, -predictions + y)\n",
    "plt.hlines(y=0, xmin=predictions.min(), xmax=predictions.max())\n",
    "plt.show()"
   ]
  },
  {
   "cell_type": "markdown",
   "id": "1fe5a48d",
   "metadata": {},
   "source": [
    "## GaussianProcessRegressor"
   ]
  },
  {
   "cell_type": "code",
   "execution_count": 19,
   "id": "f2073652",
   "metadata": {},
   "outputs": [
    {
     "name": "stdout",
     "output_type": "stream",
     "text": [
      "Training Data Score: 0.39768\n",
      "Testing Data Score: 0.39402\n"
     ]
    },
    {
     "data": {
      "image/png": "[encoded data removed]",
      "text/plain": [
       "<Figure size 432x288 with 1 Axes>"
      ]
     },
     "metadata": {
      "needs_background": "light"
     },
     "output_type": "display_data"
    }
   ],
   "source": [
    "from sklearn.gaussian_process import GaussianProcessRegressor\n",
    "from sklearn.gaussian_process.kernels import DotProduct, WhiteKernel\n",
    "kernel = DotProduct() + WhiteKernel()\n",
    "gpr = GaussianProcessRegressor(kernel=kernel,random_state=0).fit(X_train_scaled, y_train)\n",
    "print(f\"Training Data Score: {gpr.score(X_train_scaled, y_train):.5f}\")\n",
    "print(f\"Testing Data Score: {gpr.score(X_test_scaled, y_test):.5f}\")\n",
    "predictions = gpr.predict(X)\n",
    "# Plot Residuals\n",
    "plt.scatter(y, -predictions + y)\n",
    "plt.hlines(y=0, xmin=predictions.min(), xmax=predictions.max())\n",
    "plt.show()"
   ]
  },
  {
   "cell_type": "markdown",
   "id": "4511cfc7",
   "metadata": {},
   "source": [
    "## RandomeForest/DecisionTreeRegressor with log/exp transformation"
   ]
  },
  {
   "cell_type": "code",
   "execution_count": 26,
   "id": "7b0a7e05",
   "metadata": {},
   "outputs": [
    {
     "name": "stdout",
     "output_type": "stream",
     "text": [
      "Training Data Score: 0.95068\n",
      "Testing Data Score: 0.62482\n"
     ]
    },
    {
     "data": {
      "image/png": "[encoded data removed]",
      "text/plain": [
       "<Figure size 432x288 with 1 Axes>"
      ]
     },
     "metadata": {
      "needs_background": "light"
     },
     "output_type": "display_data"
    }
   ],
   "source": [
    "from sklearn.ensemble import RandomForestRegressor\n",
    " # Create a random forest regressor\n",
    "rf = RandomForestRegressor(n_estimators=500)\n",
    "rf = rf.fit(X_train_scaled, y_train_trans)\n",
    "print(f\"Training Data Score: {rf.score(X_train_scaled, y_train_trans):.5f}\")\n",
    "print(f\"Testing Data Score: {rf.score(X_test_scaled, y_test_trans):.5f}\")\n",
    "predictions = np.expm1(rf.predict(X))\n",
    "# Plot Residuals\n",
    "plt.scatter(predictions, -predictions + y)\n",
    "plt.hlines(y=0, xmin=predictions.min(), xmax=predictions.max())\n",
    "plt.show()"
   ]
  },
  {
   "cell_type": "code",
   "execution_count": 27,
   "id": "500ba5fe",
   "metadata": {},
   "outputs": [
    {
     "name": "stdout",
     "output_type": "stream",
     "text": [
      "Training Data Score: 1.00000\n",
      "Testing Data Score: 0.24313\n"
     ]
    },
    {
     "data": {
      "image/png": "[encoded data removed]",
      "text/plain": [
       "<Figure size 432x288 with 1 Axes>"
      ]
     },
     "metadata": {
      "needs_background": "light"
     },
     "output_type": "display_data"
    }
   ],
   "source": [
    "from sklearn import tree\n",
    "dtr = tree.DecisionTreeRegressor()\n",
    "dtr = dtr.fit(X_train_scaled, y_train_trans)\n",
    "print(f\"Training Data Score: {dtr.score(X_train_scaled, y_train_trans):.5f}\")\n",
    "print(f\"Testing Data Score: {dtr.score(X_test_scaled, y_test_trans):.5f}\")\n",
    "predictions =np.expm1(dtr.predict(X))\n",
    "# Plot Residuals\n",
    "plt.scatter(predictions, -predictions + y)\n",
    "plt.hlines(y=0, xmin=predictions.min(), xmax=predictions.max())\n",
    "plt.show()"
   ]
  }
 ],
 "metadata": {
  "kernelspec": {
   "display_name": "Python 3",
   "language": "python",
   "name": "python3"
  },
  "language_info": {
   "codemirror_mode": {
    "name": "ipython",
    "version": 3
   },
   "file_extension": ".py",
   "mimetype": "text/x-python",
   "name": "python",
   "nbconvert_exporter": "python",
   "pygments_lexer": "ipython3",
   "version": "3.8.10"
  }
 },
 "nbformat": 4,
 "nbformat_minor": 5
}
