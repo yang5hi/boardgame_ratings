{
 "cells": [
  {
   "cell_type": "code",
   "execution_count": 1,
   "id": "db73a153",
   "metadata": {},
   "outputs": [],
   "source": [
    "# Dependencies\n",
    "import numpy as np\n",
    "import pandas as pd\n",
    "import matplotlib.pyplot as plt"
   ]
  },
  {
   "cell_type": "code",
   "execution_count": 2,
   "id": "62cfc2cd",
   "metadata": {},
   "outputs": [
    {
     "data": {
      "text/html": [
       "<div>\n",
       "<style scoped>\n",
       "    .dataframe tbody tr th:only-of-type {\n",
       "        vertical-align: middle;\n",
       "    }\n",
       "\n",
       "    .dataframe tbody tr th {\n",
       "        vertical-align: top;\n",
       "    }\n",
       "\n",
       "    .dataframe thead th {\n",
       "        text-align: right;\n",
       "    }\n",
       "</style>\n",
       "<table border=\"1\" class=\"dataframe\">\n",
       "  <thead>\n",
       "    <tr style=\"text-align: right;\">\n",
       "      <th></th>\n",
       "      <th>average</th>\n",
       "      <th>yearpublished</th>\n",
       "      <th>maxplaytime</th>\n",
       "      <th>minage</th>\n",
       "      <th>siteviews</th>\n",
       "      <th>numplays</th>\n",
       "      <th>usersrated</th>\n",
       "      <th>stddev</th>\n",
       "      <th>avgweight</th>\n",
       "      <th>numgeeklists</th>\n",
       "      <th>numtrading</th>\n",
       "      <th>numwanting</th>\n",
       "      <th>numcomments</th>\n",
       "    </tr>\n",
       "  </thead>\n",
       "  <tbody>\n",
       "    <tr>\n",
       "      <th>0</th>\n",
       "      <td>8.77503</td>\n",
       "      <td>2017</td>\n",
       "      <td>120</td>\n",
       "      <td>14</td>\n",
       "      <td>10583753</td>\n",
       "      <td>368134</td>\n",
       "      <td>44354</td>\n",
       "      <td>1.62720</td>\n",
       "      <td>3.8660</td>\n",
       "      <td>4649</td>\n",
       "      <td>535</td>\n",
       "      <td>1374</td>\n",
       "      <td>8021</td>\n",
       "    </tr>\n",
       "    <tr>\n",
       "      <th>1</th>\n",
       "      <td>8.60721</td>\n",
       "      <td>2015</td>\n",
       "      <td>60</td>\n",
       "      <td>13</td>\n",
       "      <td>3385064</td>\n",
       "      <td>238259</td>\n",
       "      <td>43007</td>\n",
       "      <td>1.56641</td>\n",
       "      <td>2.8413</td>\n",
       "      <td>3978</td>\n",
       "      <td>310</td>\n",
       "      <td>850</td>\n",
       "      <td>6552</td>\n",
       "    </tr>\n",
       "    <tr>\n",
       "      <th>2</th>\n",
       "      <td>8.66981</td>\n",
       "      <td>2018</td>\n",
       "      <td>120</td>\n",
       "      <td>14</td>\n",
       "      <td>1816252</td>\n",
       "      <td>54092</td>\n",
       "      <td>21618</td>\n",
       "      <td>1.24895</td>\n",
       "      <td>3.9065</td>\n",
       "      <td>1630</td>\n",
       "      <td>102</td>\n",
       "      <td>1477</td>\n",
       "      <td>3303</td>\n",
       "    </tr>\n",
       "    <tr>\n",
       "      <th>3</th>\n",
       "      <td>8.42870</td>\n",
       "      <td>2016</td>\n",
       "      <td>120</td>\n",
       "      <td>12</td>\n",
       "      <td>6059031</td>\n",
       "      <td>393651</td>\n",
       "      <td>68412</td>\n",
       "      <td>1.38204</td>\n",
       "      <td>3.2395</td>\n",
       "      <td>7276</td>\n",
       "      <td>453</td>\n",
       "      <td>2085</td>\n",
       "      <td>10034</td>\n",
       "    </tr>\n",
       "    <tr>\n",
       "      <th>4</th>\n",
       "      <td>8.68957</td>\n",
       "      <td>2017</td>\n",
       "      <td>480</td>\n",
       "      <td>14</td>\n",
       "      <td>2267902</td>\n",
       "      <td>21263</td>\n",
       "      <td>14385</td>\n",
       "      <td>1.59635</td>\n",
       "      <td>4.2333</td>\n",
       "      <td>1010</td>\n",
       "      <td>98</td>\n",
       "      <td>979</td>\n",
       "      <td>2206</td>\n",
       "    </tr>\n",
       "  </tbody>\n",
       "</table>\n",
       "</div>"
      ],
      "text/plain": [
       "   average  yearpublished  maxplaytime  minage  siteviews  numplays  \\\n",
       "0  8.77503           2017          120      14   10583753    368134   \n",
       "1  8.60721           2015           60      13    3385064    238259   \n",
       "2  8.66981           2018          120      14    1816252     54092   \n",
       "3  8.42870           2016          120      12    6059031    393651   \n",
       "4  8.68957           2017          480      14    2267902     21263   \n",
       "\n",
       "   usersrated   stddev  avgweight  numgeeklists  numtrading  numwanting  \\\n",
       "0       44354  1.62720     3.8660          4649         535        1374   \n",
       "1       43007  1.56641     2.8413          3978         310         850   \n",
       "2       21618  1.24895     3.9065          1630         102        1477   \n",
       "3       68412  1.38204     3.2395          7276         453        2085   \n",
       "4       14385  1.59635     4.2333          1010          98         979   \n",
       "\n",
       "   numcomments  \n",
       "0         8021  \n",
       "1         6552  \n",
       "2         3303  \n",
       "3        10034  \n",
       "4         2206  "
      ]
     },
     "execution_count": 2,
     "metadata": {},
     "output_type": "execute_result"
    }
   ],
   "source": [
    "# read in csv file\n",
    "game_info_df=pd.read_csv(\"../data/boardgames_07022021.csv\")\n",
    "# remove duplicate games\n",
    "game_info_df.drop_duplicates(subset=['objectid'], inplace=True)\n",
    "# choose the attributes which have higher feature importances\n",
    "game_info_df=game_info_df[['average', 'yearpublished','maxplaytime', 'minage', 'siteviews', 'numplays',       \n",
    "       'usersrated', 'stddev', 'avgweight', 'numgeeklists', 'numtrading', 'numwanting', 'numcomments']].copy()\n",
    "# drop the null rows\n",
    "game_info_df.dropna(inplace=True)\n",
    "# remove the rows which have invalid values\n",
    "game_info_df.drop(game_info_df[game_info_df['average'] ==0].index, inplace = True)\n",
    "game_info_df.drop(game_info_df[game_info_df['maxplaytime'] ==0].index, inplace = True)\n",
    "game_info_df.head()"
   ]
  },
  {
   "cell_type": "code",
   "execution_count": 3,
   "id": "0f5ddf1a",
   "metadata": {},
   "outputs": [
    {
     "data": {
      "text/html": [
       "<div>\n",
       "<style scoped>\n",
       "    .dataframe tbody tr th:only-of-type {\n",
       "        vertical-align: middle;\n",
       "    }\n",
       "\n",
       "    .dataframe tbody tr th {\n",
       "        vertical-align: top;\n",
       "    }\n",
       "\n",
       "    .dataframe thead th {\n",
       "        text-align: right;\n",
       "    }\n",
       "</style>\n",
       "<table border=\"1\" class=\"dataframe\">\n",
       "  <thead>\n",
       "    <tr style=\"text-align: right;\">\n",
       "      <th></th>\n",
       "      <th>count</th>\n",
       "      <th>mean</th>\n",
       "      <th>std</th>\n",
       "      <th>min</th>\n",
       "      <th>25%</th>\n",
       "      <th>50%</th>\n",
       "      <th>75%</th>\n",
       "      <th>max</th>\n",
       "    </tr>\n",
       "  </thead>\n",
       "  <tbody>\n",
       "    <tr>\n",
       "      <th>average</th>\n",
       "      <td>27209.0</td>\n",
       "      <td>6.159624</td>\n",
       "      <td>1.137628</td>\n",
       "      <td>1.0</td>\n",
       "      <td>5.52174</td>\n",
       "      <td>6.2608</td>\n",
       "      <td>6.92391</td>\n",
       "      <td>10.0</td>\n",
       "    </tr>\n",
       "    <tr>\n",
       "      <th>yearpublished</th>\n",
       "      <td>27209.0</td>\n",
       "      <td>1971.679334</td>\n",
       "      <td>248.818794</td>\n",
       "      <td>-3500.0</td>\n",
       "      <td>1992.00000</td>\n",
       "      <td>2005.0000</td>\n",
       "      <td>2015.00000</td>\n",
       "      <td>2022.0</td>\n",
       "    </tr>\n",
       "    <tr>\n",
       "      <th>maxplaytime</th>\n",
       "      <td>27209.0</td>\n",
       "      <td>87.240803</td>\n",
       "      <td>474.346329</td>\n",
       "      <td>1.0</td>\n",
       "      <td>30.00000</td>\n",
       "      <td>45.0000</td>\n",
       "      <td>90.00000</td>\n",
       "      <td>60000.0</td>\n",
       "    </tr>\n",
       "    <tr>\n",
       "      <th>minage</th>\n",
       "      <td>27209.0</td>\n",
       "      <td>9.132383</td>\n",
       "      <td>3.971067</td>\n",
       "      <td>0.0</td>\n",
       "      <td>8.00000</td>\n",
       "      <td>10.0000</td>\n",
       "      <td>12.00000</td>\n",
       "      <td>25.0</td>\n",
       "    </tr>\n",
       "    <tr>\n",
       "      <th>siteviews</th>\n",
       "      <td>27209.0</td>\n",
       "      <td>71271.386380</td>\n",
       "      <td>227959.963477</td>\n",
       "      <td>1301.0</td>\n",
       "      <td>9363.00000</td>\n",
       "      <td>20383.0000</td>\n",
       "      <td>51272.00000</td>\n",
       "      <td>10583753.0</td>\n",
       "    </tr>\n",
       "    <tr>\n",
       "      <th>numplays</th>\n",
       "      <td>27209.0</td>\n",
       "      <td>2166.009041</td>\n",
       "      <td>14580.463972</td>\n",
       "      <td>0.0</td>\n",
       "      <td>19.00000</td>\n",
       "      <td>114.0000</td>\n",
       "      <td>519.00000</td>\n",
       "      <td>699142.0</td>\n",
       "    </tr>\n",
       "    <tr>\n",
       "      <th>usersrated</th>\n",
       "      <td>27209.0</td>\n",
       "      <td>663.917821</td>\n",
       "      <td>3161.898790</td>\n",
       "      <td>1.0</td>\n",
       "      <td>30.00000</td>\n",
       "      <td>76.0000</td>\n",
       "      <td>262.00000</td>\n",
       "      <td>104891.0</td>\n",
       "    </tr>\n",
       "    <tr>\n",
       "      <th>stddev</th>\n",
       "      <td>27209.0</td>\n",
       "      <td>1.465158</td>\n",
       "      <td>0.449737</td>\n",
       "      <td>0.0</td>\n",
       "      <td>1.27877</td>\n",
       "      <td>1.4634</td>\n",
       "      <td>1.67793</td>\n",
       "      <td>4.5</td>\n",
       "    </tr>\n",
       "    <tr>\n",
       "      <th>avgweight</th>\n",
       "      <td>27209.0</td>\n",
       "      <td>1.771392</td>\n",
       "      <td>1.002864</td>\n",
       "      <td>0.0</td>\n",
       "      <td>1.00000</td>\n",
       "      <td>1.7500</td>\n",
       "      <td>2.44440</td>\n",
       "      <td>5.0</td>\n",
       "    </tr>\n",
       "    <tr>\n",
       "      <th>numgeeklists</th>\n",
       "      <td>27209.0</td>\n",
       "      <td>191.591642</td>\n",
       "      <td>592.168247</td>\n",
       "      <td>0.0</td>\n",
       "      <td>14.00000</td>\n",
       "      <td>39.0000</td>\n",
       "      <td>125.00000</td>\n",
       "      <td>15950.0</td>\n",
       "    </tr>\n",
       "    <tr>\n",
       "      <th>numtrading</th>\n",
       "      <td>27209.0</td>\n",
       "      <td>34.238524</td>\n",
       "      <td>90.562015</td>\n",
       "      <td>0.0</td>\n",
       "      <td>2.00000</td>\n",
       "      <td>8.0000</td>\n",
       "      <td>27.00000</td>\n",
       "      <td>2477.0</td>\n",
       "    </tr>\n",
       "    <tr>\n",
       "      <th>numwanting</th>\n",
       "      <td>27209.0</td>\n",
       "      <td>33.078981</td>\n",
       "      <td>106.176582</td>\n",
       "      <td>0.0</td>\n",
       "      <td>1.00000</td>\n",
       "      <td>5.0000</td>\n",
       "      <td>20.00000</td>\n",
       "      <td>2085.0</td>\n",
       "    </tr>\n",
       "    <tr>\n",
       "      <th>numcomments</th>\n",
       "      <td>27209.0</td>\n",
       "      <td>165.113749</td>\n",
       "      <td>588.846366</td>\n",
       "      <td>0.0</td>\n",
       "      <td>12.00000</td>\n",
       "      <td>33.0000</td>\n",
       "      <td>98.00000</td>\n",
       "      <td>18840.0</td>\n",
       "    </tr>\n",
       "  </tbody>\n",
       "</table>\n",
       "</div>"
      ],
      "text/plain": [
       "                 count          mean            std     min         25%  \\\n",
       "average        27209.0      6.159624       1.137628     1.0     5.52174   \n",
       "yearpublished  27209.0   1971.679334     248.818794 -3500.0  1992.00000   \n",
       "maxplaytime    27209.0     87.240803     474.346329     1.0    30.00000   \n",
       "minage         27209.0      9.132383       3.971067     0.0     8.00000   \n",
       "siteviews      27209.0  71271.386380  227959.963477  1301.0  9363.00000   \n",
       "numplays       27209.0   2166.009041   14580.463972     0.0    19.00000   \n",
       "usersrated     27209.0    663.917821    3161.898790     1.0    30.00000   \n",
       "stddev         27209.0      1.465158       0.449737     0.0     1.27877   \n",
       "avgweight      27209.0      1.771392       1.002864     0.0     1.00000   \n",
       "numgeeklists   27209.0    191.591642     592.168247     0.0    14.00000   \n",
       "numtrading     27209.0     34.238524      90.562015     0.0     2.00000   \n",
       "numwanting     27209.0     33.078981     106.176582     0.0     1.00000   \n",
       "numcomments    27209.0    165.113749     588.846366     0.0    12.00000   \n",
       "\n",
       "                      50%          75%         max  \n",
       "average            6.2608      6.92391        10.0  \n",
       "yearpublished   2005.0000   2015.00000      2022.0  \n",
       "maxplaytime       45.0000     90.00000     60000.0  \n",
       "minage            10.0000     12.00000        25.0  \n",
       "siteviews      20383.0000  51272.00000  10583753.0  \n",
       "numplays         114.0000    519.00000    699142.0  \n",
       "usersrated        76.0000    262.00000    104891.0  \n",
       "stddev             1.4634      1.67793         4.5  \n",
       "avgweight          1.7500      2.44440         5.0  \n",
       "numgeeklists      39.0000    125.00000     15950.0  \n",
       "numtrading         8.0000     27.00000      2477.0  \n",
       "numwanting         5.0000     20.00000      2085.0  \n",
       "numcomments       33.0000     98.00000     18840.0  "
      ]
     },
     "execution_count": 3,
     "metadata": {},
     "output_type": "execute_result"
    }
   ],
   "source": [
    "# Get the general idea about the dataset value range\n",
    "game_info_df.describe().T"
   ]
  },
  {
   "cell_type": "markdown",
   "id": "76bc2cdf",
   "metadata": {},
   "source": [
    "## Select features, Create Train Test Split, Scale the data"
   ]
  },
  {
   "cell_type": "code",
   "execution_count": 4,
   "id": "1fcadc1e",
   "metadata": {},
   "outputs": [
    {
     "data": {
      "text/plain": [
       "((27209, 12), (27209,))"
      ]
     },
     "execution_count": 4,
     "metadata": {},
     "output_type": "execute_result"
    }
   ],
   "source": [
    "# Set features (X) and target (y)\n",
    "y=game_info_df['average']\n",
    "X=game_info_df.drop(['average'],axis=1)\n",
    "X.shape, y.shape"
   ]
  },
  {
   "cell_type": "code",
   "execution_count": 5,
   "id": "feec9d0a",
   "metadata": {},
   "outputs": [
    {
     "data": {
      "text/plain": [
       "Index(['yearpublished', 'maxplaytime', 'minage', 'siteviews', 'numplays',\n",
       "       'usersrated', 'stddev', 'avgweight', 'numgeeklists', 'numtrading',\n",
       "       'numwanting', 'numcomments'],\n",
       "      dtype='object')"
      ]
     },
     "execution_count": 5,
     "metadata": {},
     "output_type": "execute_result"
    }
   ],
   "source": [
    "feature_names=X.columns\n",
    "feature_names"
   ]
  },
  {
   "cell_type": "code",
   "execution_count": 6,
   "id": "f567f971",
   "metadata": {},
   "outputs": [
    {
     "data": {
      "text/plain": [
       "((5441, 12), (5441,))"
      ]
     },
     "execution_count": 6,
     "metadata": {},
     "output_type": "execute_result"
    }
   ],
   "source": [
    "# Create a Train Test Split (20/80)\n",
    "from sklearn.model_selection import train_test_split\n",
    "X_train, X_test, y_train, y_test = train_test_split(X, y,  train_size=0.2,random_state=101)\n",
    "X_train.shape, y_train.shape"
   ]
  },
  {
   "cell_type": "code",
   "execution_count": 7,
   "id": "e9e27fec",
   "metadata": {},
   "outputs": [],
   "source": [
    "# Scale the data\n",
    "from sklearn.preprocessing import MinMaxScaler\n",
    "X_scaler = MinMaxScaler().fit(X_train)\n",
    "X_train_scaled = X_scaler.transform(X_train)\n",
    "X_test_scaled = X_scaler.transform(X_test)"
   ]
  },
  {
   "cell_type": "markdown",
   "id": "e085cd22",
   "metadata": {},
   "source": [
    "## RandomeForestRegressor"
   ]
  },
  {
   "cell_type": "code",
   "execution_count": 22,
   "id": "97f93a2f",
   "metadata": {},
   "outputs": [
    {
     "name": "stdout",
     "output_type": "stream",
     "text": [
      "Training Data Score: 0.94288\n",
      "Testing Data Score: 0.55989\n"
     ]
    },
    {
     "data": {
      "image/png": "[encoded data removed]",
      "text/plain": [
       "<Figure size 432x288 with 1 Axes>"
      ]
     },
     "metadata": {
      "needs_background": "light"
     },
     "output_type": "display_data"
    }
   ],
   "source": [
    "from sklearn.ensemble import RandomForestRegressor\n",
    " # Create a random forest regressor\n",
    "rf = RandomForestRegressor(n_estimators=500)\n",
    "rf = rf.fit(X_train_scaled, y_train)\n",
    "print(f\"Training Data Score: {rf.score(X_train_scaled, y_train):.5f}\")\n",
    "print(f\"Testing Data Score: {rf.score(X_test_scaled, y_test):.5f}\")\n",
    "predictions = rf.predict(X)\n",
    "# Plot Residuals\n",
    "plt.scatter(predictions, -predictions + y)\n",
    "plt.hlines(y=0, xmin=predictions.min(), xmax=predictions.max())\n",
    "plt.show()"
   ]
  },
  {
   "cell_type": "code",
   "execution_count": 23,
   "id": "7a41c6ac",
   "metadata": {},
   "outputs": [
    {
     "data": {
      "image/png": "[encoded data removed]",
      "text/plain": [
       "<Figure size 432x288 with 1 Axes>"
      ]
     },
     "metadata": {},
     "output_type": "display_data"
    },
    {
     "data": {
      "text/plain": [
       "[(0.3473562979131199, 'numwanting'),\n",
       " (0.12866733334442088, 'yearpublished'),\n",
       " (0.1129521967017061, 'avgweight'),\n",
       " (0.08020729763552494, 'stddev'),\n",
       " (0.05872291001161003, 'siteviews'),\n",
       " (0.050739414197214304, 'numgeeklists'),\n",
       " (0.04537383433833869, 'numplays'),\n",
       " (0.04494114061994131, 'numtrading'),\n",
       " (0.03868378563678005, 'maxplaytime'),\n",
       " (0.03248208696860571, 'usersrated'),\n",
       " (0.03032918019827193, 'numcomments'),\n",
       " (0.029544522434466314, 'minage')]"
      ]
     },
     "execution_count": 23,
     "metadata": {},
     "output_type": "execute_result"
    }
   ],
   "source": [
    "importances = rf.feature_importances_\n",
    "rf_feature_importance=sorted(zip(importances, feature_names), reverse=True)\n",
    "plt.pie([a[0] for a in rf_feature_importance],labels=[a[1] for a in rf_feature_importance],normalize=True)\n",
    "plt.show()\n",
    "rf_feature_importance"
   ]
  },
  {
   "cell_type": "markdown",
   "id": "91ef562e",
   "metadata": {},
   "source": [
    "## DecisionTreeRegressor"
   ]
  },
  {
   "cell_type": "code",
   "execution_count": 11,
   "id": "146732a1",
   "metadata": {},
   "outputs": [
    {
     "name": "stdout",
     "output_type": "stream",
     "text": [
      "Training Data Score: 1.00000\n",
      "Testing Data Score: 0.13333\n"
     ]
    }
   ],
   "source": [
    "from sklearn import tree\n",
    "dtr = tree.DecisionTreeRegressor()\n",
    "dtr = dtr.fit(X_train_scaled, y_train)\n",
    "dtr.score(X_train_scaled, y_train)\n",
    "print(f\"Training Data Score: {dtr.score(X_train_scaled, y_train):.5f}\")\n",
    "print(f\"Testing Data Score: {dtr.score(X_test_scaled, y_test):.5f}\")\n",
    "predictions = dtr.predict(X)\n",
    "# Plot Residuals\n",
    "plt.scatter(predictions, -predictions + y)\n",
    "plt.hlines(y=0, xmin=predictions.min(), xmax=predictions.max())\n",
    "plt.show()"
   ]
  },
  {
   "cell_type": "code",
   "execution_count": 24,
   "id": "abc46318",
   "metadata": {},
   "outputs": [
    {
     "data": {
      "image/png": "[encoded data removed]",
      "text/plain": [
       "<Figure size 432x288 with 1 Axes>"
      ]
     },
     "metadata": {},
     "output_type": "display_data"
    },
    {
     "data": {
      "text/plain": [
       "[(0.35890289172199624, 'numwanting'),\n",
       " (0.12566091011503144, 'yearpublished'),\n",
       " (0.10551098701081714, 'avgweight'),\n",
       " (0.08648162800700793, 'stddev'),\n",
       " (0.06136210942763745, 'siteviews'),\n",
       " (0.0521128933083946, 'numgeeklists'),\n",
       " (0.04552262588744967, 'numtrading'),\n",
       " (0.0433249647367509, 'numplays'),\n",
       " (0.03680120118429564, 'maxplaytime'),\n",
       " (0.02927629417394763, 'minage'),\n",
       " (0.02795607657366424, 'usersrated'),\n",
       " (0.02708741785300711, 'numcomments')]"
      ]
     },
     "execution_count": 24,
     "metadata": {},
     "output_type": "execute_result"
    }
   ],
   "source": [
    "importances = dtr.feature_importances_\n",
    "dtr_feature_importance=sorted(zip(importances, feature_names), reverse=True)\n",
    "plt.pie([a[0] for a in dtr_feature_importance],labels=[a[1] for a in dtr_feature_importance])\n",
    "plt.show()\n",
    "dtr_feature_importance"
   ]
  },
  {
   "cell_type": "code",
   "execution_count": 14,
   "id": "a7ece514",
   "metadata": {
    "scrolled": true
   },
   "outputs": [
    {
     "name": "stdout",
     "output_type": "stream",
     "text": [
      "k: 1, Train/Test Score: 1.000/-0.107\n",
      "k: 3, Train/Test Score: 0.633/0.249\n",
      "k: 5, Train/Test Score: 0.552/0.296\n",
      "k: 7, Train/Test Score: 0.508/0.323\n",
      "k: 9, Train/Test Score: 0.494/0.332\n",
      "k: 11, Train/Test Score: 0.471/0.343\n",
      "k: 13, Train/Test Score: 0.461/0.348\n",
      "k: 15, Train/Test Score: 0.453/0.351\n",
      "k: 17, Train/Test Score: 0.445/0.355\n",
      "k: 19, Train/Test Score: 0.439/0.355\n",
      "k: 21, Train/Test Score: 0.432/0.356\n",
      "k: 23, Train/Test Score: 0.427/0.357\n",
      "k: 25, Train/Test Score: 0.422/0.359\n",
      "k: 27, Train/Test Score: 0.419/0.360\n",
      "k: 29, Train/Test Score: 0.416/0.361\n"
     ]
    },
    {
     "data": {
      "image/png": "[encoded data removed]",
      "text/plain": [
       "<Figure size 432x288 with 1 Axes>"
      ]
     },
     "metadata": {
      "needs_background": "light"
     },
     "output_type": "display_data"
    }
   ],
   "source": [
    "from sklearn.neighbors import KNeighborsRegressor\n",
    "train_scores = []\n",
    "test_scores = []\n",
    "for k in range(1, 30, 2):\n",
    "    knr = KNeighborsRegressor(n_neighbors=k)\n",
    "    knr.fit(X_train_scaled, y_train)\n",
    "    train_score = knr.score(X_train_scaled, y_train)\n",
    "    test_score = knr.score(X_test_scaled, y_test)\n",
    "    train_scores.append(train_score)\n",
    "    test_scores.append(test_score)\n",
    "    print(f\"k: {k}, Train/Test Score: {train_score:.3f}/{test_score:.3f}\")\n",
    "    \n",
    "plt.plot(range(1, 30, 2), train_scores, marker='o')\n",
    "plt.plot(range(1, 30, 2), test_scores, marker=\"x\")\n",
    "plt.xlabel(\"k neighbors\")\n",
    "plt.ylabel(\"Testing accuracy Score\")\n",
    "plt.show()"
   ]
  },
  {
   "cell_type": "markdown",
   "id": "d44d85a1",
   "metadata": {},
   "source": [
    "## DummyRegressor"
   ]
  },
  {
   "cell_type": "code",
   "execution_count": 15,
   "id": "3ae2331a",
   "metadata": {},
   "outputs": [
    {
     "name": "stdout",
     "output_type": "stream",
     "text": [
      "Training Data Score: 0.00000\n",
      "Testing Data Score: -0.00001\n"
     ]
    }
   ],
   "source": [
    "from sklearn.dummy import DummyRegressor\n",
    "dummy_regr = DummyRegressor(strategy=\"mean\")\n",
    "dummy_regr = dummy_regr.fit(X_train_scaled, y_train)\n",
    "print(f\"Training Data Score: {dummy_regr.score(X_train_scaled, y_train):.5f}\")\n",
    "print(f\"Testing Data Score: {dummy_regr.score(X_test_scaled, y_test):.5f}\")"
   ]
  },
  {
   "cell_type": "markdown",
   "id": "2258ac52",
   "metadata": {},
   "source": [
    "## GaussianProcessRegressor"
   ]
  },
  {
   "cell_type": "code",
   "execution_count": 25,
   "id": "8c9dfc80",
   "metadata": {},
   "outputs": [
    {
     "name": "stdout",
     "output_type": "stream",
     "text": [
      "Training Data Score: 0.32680\n",
      "Testing Data Score: 0.30690\n"
     ]
    },
    {
     "data": {
      "image/png": "[encoded data removed]",
      "text/plain": [
       "<Figure size 432x288 with 1 Axes>"
      ]
     },
     "metadata": {
      "needs_background": "light"
     },
     "output_type": "display_data"
    }
   ],
   "source": [
    "from sklearn.gaussian_process import GaussianProcessRegressor\n",
    "from sklearn.gaussian_process.kernels import DotProduct, WhiteKernel\n",
    "kernel = DotProduct() + WhiteKernel()\n",
    "gpr = GaussianProcessRegressor(kernel=kernel,random_state=0).fit(X_train_scaled, y_train)\n",
    "print(f\"Training Data Score: {gpr.score(X_train_scaled, y_train):.5f}\")\n",
    "print(f\"Testing Data Score: {gpr.score(X_test_scaled, y_test):.5f}\")\n",
    "predictions = gpr.predict(X)\n",
    "# Plot Residuals\n",
    "plt.scatter(predictions, -predictions + y)\n",
    "plt.hlines(y=0, xmin=predictions.min(), xmax=predictions.max())\n",
    "plt.show()"
   ]
  },
  {
   "cell_type": "code",
   "execution_count": null,
   "id": "0e99797b",
   "metadata": {},
   "outputs": [],
   "source": []
  }
 ],
 "metadata": {
  "kernelspec": {
   "display_name": "Python 3",
   "language": "python",
   "name": "python3"
  },
  "language_info": {
   "codemirror_mode": {
    "name": "ipython",
    "version": 3
   },
   "file_extension": ".py",
   "mimetype": "text/x-python",
   "name": "python",
   "nbconvert_exporter": "python",
   "pygments_lexer": "ipython3",
   "version": "3.8.10"
  }
 },
 "nbformat": 4,
 "nbformat_minor": 5
}
