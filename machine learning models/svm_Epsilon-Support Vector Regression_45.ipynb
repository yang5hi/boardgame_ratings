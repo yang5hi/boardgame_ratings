{
 "cells": [
  {
   "cell_type": "code",
   "execution_count": 1,
   "id": "db73a153",
   "metadata": {},
   "outputs": [
    {
     "data": {
      "text/html": [
       "<div>\n",
       "<style scoped>\n",
       "    .dataframe tbody tr th:only-of-type {\n",
       "        vertical-align: middle;\n",
       "    }\n",
       "\n",
       "    .dataframe tbody tr th {\n",
       "        vertical-align: top;\n",
       "    }\n",
       "\n",
       "    .dataframe thead th {\n",
       "        text-align: right;\n",
       "    }\n",
       "</style>\n",
       "<table border=\"1\" class=\"dataframe\">\n",
       "  <thead>\n",
       "    <tr style=\"text-align: right;\">\n",
       "      <th></th>\n",
       "      <th>average</th>\n",
       "      <th>numwanting</th>\n",
       "      <th>siteviews</th>\n",
       "      <th>blogs</th>\n",
       "      <th>minage</th>\n",
       "      <th>news</th>\n",
       "      <th>podcast</th>\n",
       "      <th>totalvotes</th>\n",
       "      <th>numcomments</th>\n",
       "      <th>numgeeklists</th>\n",
       "      <th>weblink</th>\n",
       "    </tr>\n",
       "  </thead>\n",
       "  <tbody>\n",
       "    <tr>\n",
       "      <th>0</th>\n",
       "      <td>8.77503</td>\n",
       "      <td>1374</td>\n",
       "      <td>10583753</td>\n",
       "      <td>690</td>\n",
       "      <td>14</td>\n",
       "      <td>8</td>\n",
       "      <td>147</td>\n",
       "      <td>1171</td>\n",
       "      <td>8021</td>\n",
       "      <td>4649</td>\n",
       "      <td>40</td>\n",
       "    </tr>\n",
       "    <tr>\n",
       "      <th>1</th>\n",
       "      <td>8.60721</td>\n",
       "      <td>850</td>\n",
       "      <td>3385064</td>\n",
       "      <td>653</td>\n",
       "      <td>13</td>\n",
       "      <td>10</td>\n",
       "      <td>170</td>\n",
       "      <td>668</td>\n",
       "      <td>6552</td>\n",
       "      <td>3978</td>\n",
       "      <td>70</td>\n",
       "    </tr>\n",
       "    <tr>\n",
       "      <th>2</th>\n",
       "      <td>8.66981</td>\n",
       "      <td>1477</td>\n",
       "      <td>1816252</td>\n",
       "      <td>208</td>\n",
       "      <td>14</td>\n",
       "      <td>4</td>\n",
       "      <td>28</td>\n",
       "      <td>521</td>\n",
       "      <td>3303</td>\n",
       "      <td>1630</td>\n",
       "      <td>23</td>\n",
       "    </tr>\n",
       "    <tr>\n",
       "      <th>3</th>\n",
       "      <td>8.42870</td>\n",
       "      <td>2085</td>\n",
       "      <td>6059031</td>\n",
       "      <td>1473</td>\n",
       "      <td>12</td>\n",
       "      <td>16</td>\n",
       "      <td>163</td>\n",
       "      <td>1800</td>\n",
       "      <td>10034</td>\n",
       "      <td>7276</td>\n",
       "      <td>71</td>\n",
       "    </tr>\n",
       "    <tr>\n",
       "      <th>4</th>\n",
       "      <td>8.68957</td>\n",
       "      <td>979</td>\n",
       "      <td>2267902</td>\n",
       "      <td>99</td>\n",
       "      <td>14</td>\n",
       "      <td>3</td>\n",
       "      <td>53</td>\n",
       "      <td>335</td>\n",
       "      <td>2206</td>\n",
       "      <td>1010</td>\n",
       "      <td>23</td>\n",
       "    </tr>\n",
       "  </tbody>\n",
       "</table>\n",
       "</div>"
      ],
      "text/plain": [
       "   average  numwanting  siteviews  blogs  minage  news  podcast  totalvotes  \\\n",
       "0  8.77503        1374   10583753    690      14     8      147        1171   \n",
       "1  8.60721         850    3385064    653      13    10      170         668   \n",
       "2  8.66981        1477    1816252    208      14     4       28         521   \n",
       "3  8.42870        2085    6059031   1473      12    16      163        1800   \n",
       "4  8.68957         979    2267902     99      14     3       53         335   \n",
       "\n",
       "   numcomments  numgeeklists  weblink  \n",
       "0         8021          4649       40  \n",
       "1         6552          3978       70  \n",
       "2         3303          1630       23  \n",
       "3        10034          7276       71  \n",
       "4         2206          1010       23  "
      ]
     },
     "execution_count": 1,
     "metadata": {},
     "output_type": "execute_result"
    }
   ],
   "source": [
    "# Dependencies\n",
    "import numpy as np\n",
    "import pandas as pd\n",
    "import matplotlib.pyplot as plt\n",
    "# read in csv file\n",
    "game_info_df=pd.read_csv(\"../data/boardgames_07022021.csv\")\n",
    "# remove duplicate games\n",
    "game_info_df.drop_duplicates(subset=['objectid'], inplace=True)\n",
    "# =========================================================================================================\n",
    "# choose the features based on correlations\n",
    "game_info_df=game_info_df[['average', 'numwanting', 'siteviews', 'blogs', 'minage', 'news',\n",
    "                           'podcast', 'totalvotes', 'numcomments', 'numgeeklists', 'weblink']].copy()\n",
    "# =========================================================================================================\n",
    "# remove the rows which have invalid values\n",
    "game_info_df.drop(game_info_df[game_info_df['average'] ==0].index, inplace = True)\n",
    "game_info_df.drop(game_info_df[game_info_df['totalvotes'] ==0].index, inplace = True)\n",
    "# drop the null rows\n",
    "game_info_df.dropna(inplace=True)\n",
    "game_info_df.head()"
   ]
  },
  {
   "cell_type": "markdown",
   "id": "76bc2cdf",
   "metadata": {},
   "source": [
    "## Select features, Create Train Test Split, Scale the data"
   ]
  },
  {
   "cell_type": "code",
   "execution_count": 2,
   "id": "1fcadc1e",
   "metadata": {},
   "outputs": [],
   "source": [
    "# # Set features (X) and target (y)\n",
    "# y=game_info_df['average']\n",
    "# X=game_info_df.drop(['average'],axis=1)\n",
    "\n",
    "# # Scale the data\n",
    "# from sklearn.preprocessing import MinMaxScaler\n",
    "# X_scaler = MinMaxScaler().fit(X)\n",
    "# X_scaled = X_scaler.transform(X)\n",
    "\n",
    "# X_scaled.shape, y.shape"
   ]
  },
  {
   "cell_type": "code",
   "execution_count": 3,
   "id": "b085eb6b",
   "metadata": {},
   "outputs": [
    {
     "data": {
      "text/plain": [
       "((20138, 10), (20138,))"
      ]
     },
     "execution_count": 3,
     "metadata": {},
     "output_type": "execute_result"
    }
   ],
   "source": [
    "# Set features (X) and target (y)\n",
    "y=game_info_df['average']\n",
    "X=game_info_df.drop(['average'],axis=1)\n",
    "\n",
    "# Scale the data\n",
    "from sklearn.preprocessing import StandardScaler\n",
    "X_scaler = StandardScaler().fit(X)\n",
    "X_scaled = X_scaler.transform(X)\n",
    "\n",
    "X_scaled.shape, y.shape"
   ]
  },
  {
   "cell_type": "markdown",
   "id": "e085cd22",
   "metadata": {},
   "source": [
    "## svm\n",
    "* SVR\n",
    "* NuSVR\n",
    "* LinearSVR"
   ]
  },
  {
   "cell_type": "code",
   "execution_count": 4,
   "id": "eb75528d",
   "metadata": {},
   "outputs": [
    {
     "name": "stdout",
     "output_type": "stream",
     "text": [
      "Training Data Score: 0.42474\n"
     ]
    }
   ],
   "source": [
    "from sklearn.svm import SVR\n",
    "# from sklearn.pipeline import make_pipeline\n",
    "# from sklearn.preprocessing import StandardScaler\n",
    "# Create a Epsilon-Support Vector Regression model\n",
    "\n",
    "regr = SVR(C=1.0, epsilon=0.2)\n",
    "regr=regr.fit(X_scaled, y)\n",
    "\n",
    "print(f\"Training Data Score: {regr.score(X_scaled, y):.5f}\")"
   ]
  },
  {
   "cell_type": "code",
   "execution_count": 5,
   "id": "c56a7e77",
   "metadata": {},
   "outputs": [
    {
     "name": "stdout",
     "output_type": "stream",
     "text": [
      "Fitting 5 folds for each of 9 candidates, totalling 45 fits\n",
      "[CV 1/5] END C=1, epsilon=0.1;, score=(train=-0.526, test=-0.765) total time=  12.5s\n",
      "[CV 2/5] END C=1, epsilon=0.1;, score=(train=-0.543, test=-0.432) total time=  12.5s\n",
      "[CV 3/5] END C=1, epsilon=0.1;, score=(train=-0.493, test=-0.686) total time=  12.3s\n",
      "[CV 4/5] END C=1, epsilon=0.1;, score=(train=-0.568, test=-0.385) total time=  12.5s\n",
      "[CV 5/5] END C=1, epsilon=0.1;, score=(train=-0.285, test=-1.742) total time=  12.7s\n",
      "[CV 1/5] END C=1, epsilon=0.2;, score=(train=-0.525, test=-0.755) total time=  10.9s\n",
      "[CV 2/5] END C=1, epsilon=0.2;, score=(train=-0.543, test=-0.435) total time=  10.8s\n",
      "[CV 3/5] END C=1, epsilon=0.2;, score=(train=-0.494, test=-0.692) total time=  11.1s\n",
      "[CV 4/5] END C=1, epsilon=0.2;, score=(train=-0.569, test=-0.386) total time=  11.0s\n",
      "[CV 5/5] END C=1, epsilon=0.2;, score=(train=-0.285, test=-1.749) total time=  10.3s\n",
      "[CV 1/5] END C=1, epsilon=0.5;, score=(train=-0.529, test=-0.753) total time=   6.3s\n",
      "[CV 2/5] END C=1, epsilon=0.5;, score=(train=-0.549, test=-0.444) total time=   6.5s\n",
      "[CV 3/5] END C=1, epsilon=0.5;, score=(train=-0.500, test=-0.685) total time=   6.0s\n",
      "[CV 4/5] END C=1, epsilon=0.5;, score=(train=-0.569, test=-0.373) total time=   6.1s\n",
      "[CV 5/5] END C=1, epsilon=0.5;, score=(train=-0.290, test=-1.837) total time=   4.9s\n",
      "[CV 1/5] END C=5, epsilon=0.1;, score=(train=-0.499, test=-0.818) total time=  14.7s\n",
      "[CV 2/5] END C=5, epsilon=0.1;, score=(train=-0.516, test=-0.410) total time=  15.1s\n",
      "[CV 3/5] END C=5, epsilon=0.1;, score=(train=-0.466, test=-0.664) total time=  14.6s\n",
      "[CV 4/5] END C=5, epsilon=0.1;, score=(train=-0.536, test=-0.381) total time=  16.2s\n",
      "[CV 5/5] END C=5, epsilon=0.1;, score=(train=-0.271, test=-1.675) total time=  15.9s\n",
      "[CV 1/5] END C=5, epsilon=0.2;, score=(train=-0.500, test=-0.797) total time=  14.0s\n",
      "[CV 2/5] END C=5, epsilon=0.2;, score=(train=-0.517, test=-0.411) total time=  13.4s\n",
      "[CV 3/5] END C=5, epsilon=0.2;, score=(train=-0.467, test=-0.667) total time=  13.2s\n",
      "[CV 4/5] END C=5, epsilon=0.2;, score=(train=-0.536, test=-0.383) total time=  13.2s\n",
      "[CV 5/5] END C=5, epsilon=0.2;, score=(train=-0.272, test=-1.678) total time=  12.6s\n",
      "[CV 1/5] END C=5, epsilon=0.5;, score=(train=-0.504, test=-0.795) total time=   7.5s\n",
      "[CV 2/5] END C=5, epsilon=0.5;, score=(train=-0.521, test=-0.421) total time=   7.4s\n",
      "[CV 3/5] END C=5, epsilon=0.5;, score=(train=-0.473, test=-0.660) total time=   7.0s\n",
      "[CV 4/5] END C=5, epsilon=0.5;, score=(train=-0.538, test=-0.361) total time=   7.1s\n",
      "[CV 5/5] END C=5, epsilon=0.5;, score=(train=-0.277, test=-1.765) total time=   5.5s\n",
      "[CV 1/5] END C=10, epsilon=0.1;, score=(train=-0.490, test=-0.887) total time=  17.8s\n",
      "[CV 2/5] END C=10, epsilon=0.1;, score=(train=-0.507, test=-0.403) total time=  17.5s\n",
      "[CV 3/5] END C=10, epsilon=0.1;, score=(train=-0.457, test=-0.656) total time=  17.5s\n",
      "[CV 4/5] END C=10, epsilon=0.1;, score=(train=-0.525, test=-0.381) total time=  17.7s\n",
      "[CV 5/5] END C=10, epsilon=0.1;, score=(train=-0.267, test=-1.652) total time=  18.0s\n",
      "[CV 1/5] END C=10, epsilon=0.2;, score=(train=-0.491, test=-0.854) total time=  15.5s\n",
      "[CV 2/5] END C=10, epsilon=0.2;, score=(train=-0.507, test=-0.402) total time=  13.5s\n",
      "[CV 3/5] END C=10, epsilon=0.2;, score=(train=-0.457, test=-0.655) total time=  20.2s\n",
      "[CV 4/5] END C=10, epsilon=0.2;, score=(train=-0.524, test=-0.379) total time=  14.8s\n",
      "[CV 5/5] END C=10, epsilon=0.2;, score=(train=-0.267, test=-1.648) total time=  13.2s\n",
      "[CV 1/5] END C=10, epsilon=0.5;, score=(train=-0.495, test=-0.849) total time=   8.2s\n",
      "[CV 2/5] END C=10, epsilon=0.5;, score=(train=-0.512, test=-0.414) total time=   7.2s\n",
      "[CV 3/5] END C=10, epsilon=0.5;, score=(train=-0.464, test=-0.649) total time=   7.0s\n",
      "[CV 4/5] END C=10, epsilon=0.5;, score=(train=-0.526, test=-0.357) total time=   7.5s\n",
      "[CV 5/5] END C=10, epsilon=0.5;, score=(train=-0.273, test=-1.741) total time=   5.7s\n",
      "{'C': 5, 'epsilon': 0.2}\n",
      "-0.7870871832249567\n"
     ]
    }
   ],
   "source": [
    "# Create the GridSearchCV model\n",
    "# Create the GridSearch estimator along with a parameter object containing the values to adjust\n",
    "from sklearn.model_selection import GridSearchCV\n",
    "param_grid = {'epsilon': [0.1, 0.2, 0.5],'C':[1,5,10]}\n",
    "\n",
    "grid = GridSearchCV(regr, param_grid, verbose=3, scoring=\"neg_mean_squared_error\",return_train_score=True)\n",
    "\n",
    "# Train the model with GridSearch\n",
    "grid.fit(X_scaled, y)\n",
    "\n",
    "print(grid.best_params_)\n",
    "print(grid.best_score_)"
   ]
  },
  {
   "cell_type": "code",
   "execution_count": 6,
   "id": "6717108c",
   "metadata": {},
   "outputs": [
    {
     "name": "stdout",
     "output_type": "stream",
     "text": [
      "Grid Best Explained Variance Score: 0.45471\n",
      "Grid Best R2 Score: 0.45446\n"
     ]
    }
   ],
   "source": [
    "from sklearn.metrics import explained_variance_score\n",
    "from sklearn.metrics import r2_score\n",
    "\n",
    "# get the model predictions\n",
    "predictions = grid.predict(X_scaled)\n",
    "\n",
    "print(f\"Grid Best Explained Variance Score: {explained_variance_score(y, predictions):.5f}\")\n",
    "print(f\"Grid Best R2 Score: {r2_score(y, predictions):.5f}\")"
   ]
  },
  {
   "cell_type": "code",
   "execution_count": 7,
   "id": "d8f9c79e",
   "metadata": {},
   "outputs": [
    {
     "data": {
      "image/png": "[encoded data removed]",
      "text/plain": [
       "<Figure size 432x288 with 2 Axes>"
      ]
     },
     "metadata": {
      "needs_background": "light"
     },
     "output_type": "display_data"
    }
   ],
   "source": [
    "%matplotlib inline\n",
    "\n",
    "fig = plt.figure()\n",
    "#add subplots\n",
    "ax1 = fig.add_subplot(231)\n",
    "ax2 = fig.add_subplot(233)\n",
    "# Plot predictions vs actual values\n",
    "ax1.scatter(predictions, y,alpha=0.2)\n",
    "ax1.plot([y.min(), y.max()],[y.min(), y.max()],'--r', linewidth=2)\n",
    "ax1.set_xlim([y.min(), y.max()])\n",
    "ax1.set_xlabel('Predicted')\n",
    "ax1.set_ylabel('Actual')\n",
    "# Plot Residuals\n",
    "ax2.scatter(predictions, predictions - y,alpha=0.2)\n",
    "ax2.hlines(y=0, xmin=y.min(), xmax=y.max(),colors=\"r\", linestyles='dashed', )\n",
    "ax2.set_xlim([y.min(), y.max()])\n",
    "ax2.set_ylim([-6,6])\n",
    "ax2.set_xlabel('Predicted')\n",
    "ax2.set_ylabel('Residual')\n",
    "plt.show()"
   ]
  },
  {
   "cell_type": "code",
   "execution_count": 8,
   "id": "c230f870",
   "metadata": {},
   "outputs": [],
   "source": [
    "fig.savefig(\"svm.svg\", dpi=150)\n",
    "fig.savefig(\"svm.png\", dpi=150)"
   ]
  }
 ],
 "metadata": {
  "kernelspec": {
   "display_name": "Python 3",
   "language": "python",
   "name": "python3"
  },
  "language_info": {
   "codemirror_mode": {
    "name": "ipython",
    "version": 3
   },
   "file_extension": ".py",
   "mimetype": "text/x-python",
   "name": "python",
   "nbconvert_exporter": "python",
   "pygments_lexer": "ipython3",
   "version": "3.8.10"
  }
 },
 "nbformat": 4,
 "nbformat_minor": 5
}
