{
 "cells": [
  {
   "cell_type": "code",
   "execution_count": 20,
   "id": "db73a153",
   "metadata": {},
   "outputs": [
    {
     "data": {
      "text/html": [
       "<div>\n",
       "<style scoped>\n",
       "    .dataframe tbody tr th:only-of-type {\n",
       "        vertical-align: middle;\n",
       "    }\n",
       "\n",
       "    .dataframe tbody tr th {\n",
       "        vertical-align: top;\n",
       "    }\n",
       "\n",
       "    .dataframe thead th {\n",
       "        text-align: right;\n",
       "    }\n",
       "</style>\n",
       "<table border=\"1\" class=\"dataframe\">\n",
       "  <thead>\n",
       "    <tr style=\"text-align: right;\">\n",
       "      <th></th>\n",
       "      <th>average</th>\n",
       "      <th>numwanting</th>\n",
       "      <th>siteviews</th>\n",
       "      <th>blogs</th>\n",
       "      <th>minage</th>\n",
       "      <th>news</th>\n",
       "      <th>podcast</th>\n",
       "      <th>totalvotes</th>\n",
       "      <th>numcomments</th>\n",
       "      <th>numgeeklists</th>\n",
       "      <th>weblink</th>\n",
       "    </tr>\n",
       "  </thead>\n",
       "  <tbody>\n",
       "    <tr>\n",
       "      <th>0</th>\n",
       "      <td>8.77503</td>\n",
       "      <td>1374</td>\n",
       "      <td>10583753</td>\n",
       "      <td>690</td>\n",
       "      <td>14</td>\n",
       "      <td>8</td>\n",
       "      <td>147</td>\n",
       "      <td>1171</td>\n",
       "      <td>8021</td>\n",
       "      <td>4649</td>\n",
       "      <td>40</td>\n",
       "    </tr>\n",
       "    <tr>\n",
       "      <th>1</th>\n",
       "      <td>8.60721</td>\n",
       "      <td>850</td>\n",
       "      <td>3385064</td>\n",
       "      <td>653</td>\n",
       "      <td>13</td>\n",
       "      <td>10</td>\n",
       "      <td>170</td>\n",
       "      <td>668</td>\n",
       "      <td>6552</td>\n",
       "      <td>3978</td>\n",
       "      <td>70</td>\n",
       "    </tr>\n",
       "    <tr>\n",
       "      <th>2</th>\n",
       "      <td>8.66981</td>\n",
       "      <td>1477</td>\n",
       "      <td>1816252</td>\n",
       "      <td>208</td>\n",
       "      <td>14</td>\n",
       "      <td>4</td>\n",
       "      <td>28</td>\n",
       "      <td>521</td>\n",
       "      <td>3303</td>\n",
       "      <td>1630</td>\n",
       "      <td>23</td>\n",
       "    </tr>\n",
       "    <tr>\n",
       "      <th>3</th>\n",
       "      <td>8.42870</td>\n",
       "      <td>2085</td>\n",
       "      <td>6059031</td>\n",
       "      <td>1473</td>\n",
       "      <td>12</td>\n",
       "      <td>16</td>\n",
       "      <td>163</td>\n",
       "      <td>1800</td>\n",
       "      <td>10034</td>\n",
       "      <td>7276</td>\n",
       "      <td>71</td>\n",
       "    </tr>\n",
       "    <tr>\n",
       "      <th>4</th>\n",
       "      <td>8.68957</td>\n",
       "      <td>979</td>\n",
       "      <td>2267902</td>\n",
       "      <td>99</td>\n",
       "      <td>14</td>\n",
       "      <td>3</td>\n",
       "      <td>53</td>\n",
       "      <td>335</td>\n",
       "      <td>2206</td>\n",
       "      <td>1010</td>\n",
       "      <td>23</td>\n",
       "    </tr>\n",
       "  </tbody>\n",
       "</table>\n",
       "</div>"
      ],
      "text/plain": [
       "   average  numwanting  siteviews  blogs  minage  news  podcast  totalvotes  \\\n",
       "0  8.77503        1374   10583753    690      14     8      147        1171   \n",
       "1  8.60721         850    3385064    653      13    10      170         668   \n",
       "2  8.66981        1477    1816252    208      14     4       28         521   \n",
       "3  8.42870        2085    6059031   1473      12    16      163        1800   \n",
       "4  8.68957         979    2267902     99      14     3       53         335   \n",
       "\n",
       "   numcomments  numgeeklists  weblink  \n",
       "0         8021          4649       40  \n",
       "1         6552          3978       70  \n",
       "2         3303          1630       23  \n",
       "3        10034          7276       71  \n",
       "4         2206          1010       23  "
      ]
     },
     "execution_count": 20,
     "metadata": {},
     "output_type": "execute_result"
    }
   ],
   "source": [
    "# Dependencies\n",
    "import numpy as np\n",
    "import pandas as pd\n",
    "import matplotlib.pyplot as plt\n",
    "# read in csv file\n",
    "game_info_df=pd.read_csv(\"../data/boardgames_07022021.csv\")\n",
    "# remove duplicate games\n",
    "game_info_df.drop_duplicates(subset=['objectid'], inplace=True)\n",
    "# =========================================================================================================\n",
    "# choose the features based on correlations\n",
    "game_info_df=game_info_df[['average', 'numwanting', 'siteviews', 'blogs', 'minage', 'news',\n",
    "                           'podcast', 'totalvotes', 'numcomments', 'numgeeklists', 'weblink']].copy()\n",
    "# =========================================================================================================\n",
    "# remove the rows which have invalid values\n",
    "game_info_df.drop(game_info_df[game_info_df['average'] ==0].index, inplace = True)\n",
    "game_info_df.drop(game_info_df[game_info_df['totalvotes'] ==0].index, inplace = True)\n",
    "# drop the null rows\n",
    "game_info_df.dropna(inplace=True)\n",
    "game_info_df.head()"
   ]
  },
  {
   "cell_type": "code",
   "execution_count": 21,
   "id": "0f5ddf1a",
   "metadata": {},
   "outputs": [
    {
     "data": {
      "text/html": [
       "<div>\n",
       "<style scoped>\n",
       "    .dataframe tbody tr th:only-of-type {\n",
       "        vertical-align: middle;\n",
       "    }\n",
       "\n",
       "    .dataframe tbody tr th {\n",
       "        vertical-align: top;\n",
       "    }\n",
       "\n",
       "    .dataframe thead th {\n",
       "        text-align: right;\n",
       "    }\n",
       "</style>\n",
       "<table border=\"1\" class=\"dataframe\">\n",
       "  <thead>\n",
       "    <tr style=\"text-align: right;\">\n",
       "      <th></th>\n",
       "      <th>count</th>\n",
       "      <th>mean</th>\n",
       "      <th>std</th>\n",
       "      <th>min</th>\n",
       "      <th>25%</th>\n",
       "      <th>50%</th>\n",
       "      <th>75%</th>\n",
       "      <th>max</th>\n",
       "    </tr>\n",
       "  </thead>\n",
       "  <tbody>\n",
       "    <tr>\n",
       "      <th>average</th>\n",
       "      <td>20138.0</td>\n",
       "      <td>6.434485</td>\n",
       "      <td>0.938374</td>\n",
       "      <td>1.0</td>\n",
       "      <td>5.86667</td>\n",
       "      <td>6.472555</td>\n",
       "      <td>7.058972</td>\n",
       "      <td>9.5</td>\n",
       "    </tr>\n",
       "    <tr>\n",
       "      <th>numwanting</th>\n",
       "      <td>20138.0</td>\n",
       "      <td>43.792879</td>\n",
       "      <td>121.608511</td>\n",
       "      <td>0.0</td>\n",
       "      <td>3.00000</td>\n",
       "      <td>9.000000</td>\n",
       "      <td>30.000000</td>\n",
       "      <td>2085.0</td>\n",
       "    </tr>\n",
       "    <tr>\n",
       "      <th>siteviews</th>\n",
       "      <td>20138.0</td>\n",
       "      <td>92644.494091</td>\n",
       "      <td>261624.524627</td>\n",
       "      <td>1431.0</td>\n",
       "      <td>14757.00000</td>\n",
       "      <td>29878.500000</td>\n",
       "      <td>72693.500000</td>\n",
       "      <td>10583753.0</td>\n",
       "    </tr>\n",
       "    <tr>\n",
       "      <th>blogs</th>\n",
       "      <td>20138.0</td>\n",
       "      <td>12.260701</td>\n",
       "      <td>45.139607</td>\n",
       "      <td>0.0</td>\n",
       "      <td>0.00000</td>\n",
       "      <td>2.000000</td>\n",
       "      <td>8.000000</td>\n",
       "      <td>1473.0</td>\n",
       "    </tr>\n",
       "    <tr>\n",
       "      <th>minage</th>\n",
       "      <td>20138.0</td>\n",
       "      <td>9.598073</td>\n",
       "      <td>3.710556</td>\n",
       "      <td>0.0</td>\n",
       "      <td>8.00000</td>\n",
       "      <td>10.000000</td>\n",
       "      <td>12.000000</td>\n",
       "      <td>25.0</td>\n",
       "    </tr>\n",
       "    <tr>\n",
       "      <th>news</th>\n",
       "      <td>20138.0</td>\n",
       "      <td>0.580197</td>\n",
       "      <td>1.396812</td>\n",
       "      <td>0.0</td>\n",
       "      <td>0.00000</td>\n",
       "      <td>0.000000</td>\n",
       "      <td>1.000000</td>\n",
       "      <td>37.0</td>\n",
       "    </tr>\n",
       "    <tr>\n",
       "      <th>podcast</th>\n",
       "      <td>20138.0</td>\n",
       "      <td>2.137899</td>\n",
       "      <td>8.391469</td>\n",
       "      <td>0.0</td>\n",
       "      <td>0.00000</td>\n",
       "      <td>0.000000</td>\n",
       "      <td>1.000000</td>\n",
       "      <td>588.0</td>\n",
       "    </tr>\n",
       "    <tr>\n",
       "      <th>totalvotes</th>\n",
       "      <td>20138.0</td>\n",
       "      <td>16.454067</td>\n",
       "      <td>66.393870</td>\n",
       "      <td>1.0</td>\n",
       "      <td>2.00000</td>\n",
       "      <td>3.000000</td>\n",
       "      <td>9.000000</td>\n",
       "      <td>2108.0</td>\n",
       "    </tr>\n",
       "    <tr>\n",
       "      <th>numcomments</th>\n",
       "      <td>20138.0</td>\n",
       "      <td>219.157364</td>\n",
       "      <td>676.344229</td>\n",
       "      <td>0.0</td>\n",
       "      <td>23.00000</td>\n",
       "      <td>53.000000</td>\n",
       "      <td>146.000000</td>\n",
       "      <td>18840.0</td>\n",
       "    </tr>\n",
       "    <tr>\n",
       "      <th>numgeeklists</th>\n",
       "      <td>20138.0</td>\n",
       "      <td>259.978101</td>\n",
       "      <td>1183.245497</td>\n",
       "      <td>0.0</td>\n",
       "      <td>24.00000</td>\n",
       "      <td>63.000000</td>\n",
       "      <td>195.000000</td>\n",
       "      <td>136869.0</td>\n",
       "    </tr>\n",
       "    <tr>\n",
       "      <th>weblink</th>\n",
       "      <td>20138.0</td>\n",
       "      <td>6.637352</td>\n",
       "      <td>11.384822</td>\n",
       "      <td>0.0</td>\n",
       "      <td>1.00000</td>\n",
       "      <td>3.000000</td>\n",
       "      <td>7.000000</td>\n",
       "      <td>207.0</td>\n",
       "    </tr>\n",
       "  </tbody>\n",
       "</table>\n",
       "</div>"
      ],
      "text/plain": [
       "                count          mean            std     min          25%  \\\n",
       "average       20138.0      6.434485       0.938374     1.0      5.86667   \n",
       "numwanting    20138.0     43.792879     121.608511     0.0      3.00000   \n",
       "siteviews     20138.0  92644.494091  261624.524627  1431.0  14757.00000   \n",
       "blogs         20138.0     12.260701      45.139607     0.0      0.00000   \n",
       "minage        20138.0      9.598073       3.710556     0.0      8.00000   \n",
       "news          20138.0      0.580197       1.396812     0.0      0.00000   \n",
       "podcast       20138.0      2.137899       8.391469     0.0      0.00000   \n",
       "totalvotes    20138.0     16.454067      66.393870     1.0      2.00000   \n",
       "numcomments   20138.0    219.157364     676.344229     0.0     23.00000   \n",
       "numgeeklists  20138.0    259.978101    1183.245497     0.0     24.00000   \n",
       "weblink       20138.0      6.637352      11.384822     0.0      1.00000   \n",
       "\n",
       "                       50%           75%         max  \n",
       "average           6.472555      7.058972         9.5  \n",
       "numwanting        9.000000     30.000000      2085.0  \n",
       "siteviews     29878.500000  72693.500000  10583753.0  \n",
       "blogs             2.000000      8.000000      1473.0  \n",
       "minage           10.000000     12.000000        25.0  \n",
       "news              0.000000      1.000000        37.0  \n",
       "podcast           0.000000      1.000000       588.0  \n",
       "totalvotes        3.000000      9.000000      2108.0  \n",
       "numcomments      53.000000    146.000000     18840.0  \n",
       "numgeeklists     63.000000    195.000000    136869.0  \n",
       "weblink           3.000000      7.000000       207.0  "
      ]
     },
     "execution_count": 21,
     "metadata": {},
     "output_type": "execute_result"
    }
   ],
   "source": [
    "# Get the general idea about the dataset value range\n",
    "game_info_df.describe().T"
   ]
  },
  {
   "cell_type": "markdown",
   "id": "76bc2cdf",
   "metadata": {},
   "source": [
    "## Select features, Create Train Test Split, Scale the data"
   ]
  },
  {
   "cell_type": "code",
   "execution_count": 22,
   "id": "1fcadc1e",
   "metadata": {},
   "outputs": [
    {
     "data": {
      "text/plain": [
       "((20138, 10), (20138,))"
      ]
     },
     "execution_count": 22,
     "metadata": {},
     "output_type": "execute_result"
    }
   ],
   "source": [
    "# Set features (X) and target (y)\n",
    "y=game_info_df['average']\n",
    "X=game_info_df.drop(['average'],axis=1)\n",
    "\n",
    "# Scale the data\n",
    "from sklearn.preprocessing import MinMaxScaler\n",
    "\n",
    "X_scaler = MinMaxScaler().fit(X)\n",
    "X_scaled = X_scaler.transform(X)\n",
    "\n",
    "X_scaled.shape, y.shape"
   ]
  },
  {
   "cell_type": "markdown",
   "id": "e085cd22",
   "metadata": {},
   "source": [
    "## RandomeForestRegressor"
   ]
  },
  {
   "cell_type": "code",
   "execution_count": 23,
   "id": "eb75528d",
   "metadata": {},
   "outputs": [
    {
     "name": "stdout",
     "output_type": "stream",
     "text": [
      "Training Data Score: 0.93136\n"
     ]
    }
   ],
   "source": [
    "from sklearn.ensemble import RandomForestRegressor\n",
    " # Create a random forest regressor, default n_estimators=100, criterion=\"mse\", max_depth=\"None\"\n",
    "rf = RandomForestRegressor()\n",
    "rf = rf.fit(X_scaled, y)\n",
    "print(f\"Training Data Score: {rf.score(X_scaled, y):.5f}\")"
   ]
  },
  {
   "cell_type": "code",
   "execution_count": 24,
   "id": "7a41c6ac",
   "metadata": {},
   "outputs": [
    {
     "data": {
      "image/png": "[encoded data removed]",
      "text/plain": [
       "<Figure size 432x288 with 1 Axes>"
      ]
     },
     "metadata": {},
     "output_type": "display_data"
    },
    {
     "data": {
      "text/plain": [
       "[(0.36547009236496947, 'numwanting'),\n",
       " (0.17386344620788985, 'numgeeklists'),\n",
       " (0.12700430188359907, 'siteviews'),\n",
       " (0.09651328304644485, 'numcomments'),\n",
       " (0.07233648687205586, 'minage'),\n",
       " (0.05181506611945129, 'totalvotes'),\n",
       " (0.04868007783968381, 'blogs'),\n",
       " (0.044358787293955905, 'weblink'),\n",
       " (0.012176560966871435, 'podcast'),\n",
       " (0.007781897405078314, 'news')]"
      ]
     },
     "execution_count": 24,
     "metadata": {},
     "output_type": "execute_result"
    }
   ],
   "source": [
    "importances = rf.feature_importances_\n",
    "feature_names=X.columns\n",
    "rf_feature_importance=sorted(zip(importances, feature_names), reverse=True)\n",
    "plt.pie([a[0] for a in rf_feature_importance],labels=[a[1] for a in rf_feature_importance],normalize=True)\n",
    "plt.show()\n",
    "rf_feature_importance"
   ]
  },
  {
   "cell_type": "code",
   "execution_count": 25,
   "id": "2ed764a3",
   "metadata": {
    "scrolled": true
   },
   "outputs": [
    {
     "name": "stdout",
     "output_type": "stream",
     "text": [
      "Fitting 5 folds for each of 6 candidates, totalling 30 fits\n",
      "[CV 1/5] END n_estimators=20;, score=(train=-0.082, test=-0.325) total time=   1.0s\n",
      "[CV 2/5] END n_estimators=20;, score=(train=-0.077, test=-0.420) total time=   1.0s\n",
      "[CV 3/5] END n_estimators=20;, score=(train=-0.069, test=-0.611) total time=   1.0s\n",
      "[CV 4/5] END n_estimators=20;, score=(train=-0.074, test=-0.480) total time=   1.0s\n",
      "[CV 5/5] END n_estimators=20;, score=(train=-0.041, test=-1.610) total time=   1.0s\n",
      "[CV 1/5] END n_estimators=50;, score=(train=-0.073, test=-0.317) total time=   2.5s\n",
      "[CV 2/5] END n_estimators=50;, score=(train=-0.067, test=-0.409) total time=   2.6s\n",
      "[CV 3/5] END n_estimators=50;, score=(train=-0.062, test=-0.587) total time=   2.8s\n",
      "[CV 4/5] END n_estimators=50;, score=(train=-0.065, test=-0.464) total time=   2.8s\n",
      "[CV 5/5] END n_estimators=50;, score=(train=-0.036, test=-1.597) total time=   2.7s\n",
      "[CV 1/5] END n_estimators=100;, score=(train=-0.070, test=-0.305) total time=   5.1s\n",
      "[CV 2/5] END n_estimators=100;, score=(train=-0.064, test=-0.402) total time=   5.4s\n",
      "[CV 3/5] END n_estimators=100;, score=(train=-0.059, test=-0.581) total time=   5.7s\n",
      "[CV 4/5] END n_estimators=100;, score=(train=-0.062, test=-0.456) total time=   5.6s\n",
      "[CV 5/5] END n_estimators=100;, score=(train=-0.034, test=-1.596) total time=   5.6s\n",
      "[CV 1/5] END n_estimators=200;, score=(train=-0.068, test=-0.310) total time=  10.3s\n",
      "[CV 2/5] END n_estimators=200;, score=(train=-0.063, test=-0.397) total time=  10.9s\n",
      "[CV 3/5] END n_estimators=200;, score=(train=-0.057, test=-0.584) total time=  11.3s\n",
      "[CV 4/5] END n_estimators=200;, score=(train=-0.060, test=-0.454) total time=  11.4s\n",
      "[CV 5/5] END n_estimators=200;, score=(train=-0.034, test=-1.595) total time=  11.5s\n",
      "[CV 1/5] END n_estimators=500;, score=(train=-0.067, test=-0.308) total time=  26.0s\n",
      "[CV 2/5] END n_estimators=500;, score=(train=-0.062, test=-0.399) total time=  27.4s\n",
      "[CV 3/5] END n_estimators=500;, score=(train=-0.057, test=-0.580) total time=  28.6s\n",
      "[CV 4/5] END n_estimators=500;, score=(train=-0.060, test=-0.450) total time=  28.8s\n",
      "[CV 5/5] END n_estimators=500;, score=(train=-0.033, test=-1.588) total time=  28.4s\n",
      "[CV 1/5] END n_estimators=1000;, score=(train=-0.067, test=-0.308) total time=  52.2s\n",
      "[CV 2/5] END n_estimators=1000;, score=(train=-0.062, test=-0.399) total time=  56.0s\n",
      "[CV 3/5] END n_estimators=1000;, score=(train=-0.056, test=-0.580) total time=  57.6s\n",
      "[CV 4/5] END n_estimators=1000;, score=(train=-0.060, test=-0.449) total time=  57.8s\n",
      "[CV 5/5] END n_estimators=1000;, score=(train=-0.033, test=-1.591) total time=  58.1s\n",
      "{'n_estimators': 500}\n",
      "-0.6651716435210183\n"
     ]
    }
   ],
   "source": [
    "# Create the GridSearchCV model\n",
    "# Create the GridSearch estimator along with a parameter object containing the values to adjust\n",
    "from sklearn.model_selection import GridSearchCV\n",
    "param_grid = {'n_estimators': [20,50,100,200,500,1000]}\n",
    "\n",
    "grid = GridSearchCV(rf, param_grid, verbose=3, scoring=\"neg_mean_squared_error\",return_train_score=True)\n",
    "\n",
    "# Train the model with GridSearch\n",
    "grid.fit(X_scaled, y)\n",
    "\n"
   ]
  },
  {
   "cell_type": "code",
   "execution_count": 29,
   "id": "0a789546",
   "metadata": {},
   "outputs": [
    {
     "name": "stdout",
     "output_type": "stream",
     "text": [
      "{'n_estimators': 500}\n",
      "-0.6651716435210183\n"
     ]
    }
   ],
   "source": [
    "print(grid.best_params_)\n",
    "print(grid.best_score_)"
   ]
  },
  {
   "cell_type": "code",
   "execution_count": 26,
   "id": "36aceacd",
   "metadata": {},
   "outputs": [
    {
     "name": "stdout",
     "output_type": "stream",
     "text": [
      "Grid Best Explained Variance Score: 0.93451\n",
      "Grid Best R2 Score: 0.93450\n"
     ]
    }
   ],
   "source": [
    "from sklearn.metrics import explained_variance_score\n",
    "from sklearn.metrics import r2_score\n",
    "\n",
    "# get the model predictions\n",
    "predictions = grid.predict(X_scaled)\n",
    "\n",
    "print(f\"Grid Best Explained Variance Score: {explained_variance_score(y, predictions):.5f}\")\n",
    "print(f\"Grid Best R2 Score: {r2_score(y, predictions):.5f}\")"
   ]
  },
  {
   "cell_type": "code",
   "execution_count": 27,
   "id": "97f93a2f",
   "metadata": {},
   "outputs": [
    {
     "data": {
      "image/png": "[encoded data removed]",
      "text/plain": [
       "<Figure size 432x288 with 2 Axes>"
      ]
     },
     "metadata": {
      "needs_background": "light"
     },
     "output_type": "display_data"
    }
   ],
   "source": [
    "%matplotlib inline\n",
    "\n",
    "fig = plt.figure()\n",
    "#add subplots\n",
    "ax1 = fig.add_subplot(231)\n",
    "ax2 = fig.add_subplot(233)\n",
    "# Plot predictions vs actual values\n",
    "ax1.scatter(predictions, y,alpha=0.2)\n",
    "ax1.plot([y.min(), y.max()],[y.min(), y.max()],'--r', linewidth=2)\n",
    "ax1.set_xlim([y.min(), y.max()])\n",
    "ax1.set_xlabel('Predicted')\n",
    "ax1.set_ylabel('Actual')\n",
    "# Plot Residuals\n",
    "ax2.scatter(predictions, predictions - y,alpha=0.2)\n",
    "ax2.hlines(y=0, xmin=y.min(), xmax=y.max(),colors=\"r\", linestyles='dashed', )\n",
    "ax2.set_xlim([y.min(), y.max()])\n",
    "ax2.set_xlabel('Predicted')\n",
    "ax2.set_ylabel('Residual')\n",
    "plt.show()"
   ]
  },
  {
   "cell_type": "code",
   "execution_count": 28,
   "id": "26c360d2",
   "metadata": {},
   "outputs": [],
   "source": [
    "fig.savefig(\"rf.svg\", dpi=150)\n",
    "fig.savefig(\"rf.png\", dpi=150)"
   ]
  },
  {
   "cell_type": "code",
   "execution_count": 32,
   "id": "9058c747",
   "metadata": {},
   "outputs": [],
   "source": []
  }
 ],
 "metadata": {
  "kernelspec": {
   "display_name": "Python 3",
   "language": "python",
   "name": "python3"
  },
  "language_info": {
   "codemirror_mode": {
    "name": "ipython",
    "version": 3
   },
   "file_extension": ".py",
   "mimetype": "text/x-python",
   "name": "python",
   "nbconvert_exporter": "python",
   "pygments_lexer": "ipython3",
   "version": "3.8.10"
  }
 },
 "nbformat": 4,
 "nbformat_minor": 5
}
